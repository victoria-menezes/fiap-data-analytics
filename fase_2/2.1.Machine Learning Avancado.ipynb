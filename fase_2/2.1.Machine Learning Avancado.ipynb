{
 "cells": [
  {
   "cell_type": "markdown",
   "id": "7c556c53",
   "metadata": {},
   "source": [
    "# Modelo supervisionado"
   ]
  },
  {
   "cell_type": "code",
   "execution_count": 117,
   "id": "5c7d7996",
   "metadata": {},
   "outputs": [],
   "source": [
    "import pandas as pd\n",
    "import numpy as np\n",
    "import matplotlib.pyplot as plt\n",
    "import matplotlib.ticker as ticker\n",
    "import seaborn as sns\n",
    "from sklearn.model_selection import train_test_split"
   ]
  },
  {
   "cell_type": "code",
   "execution_count": 98,
   "id": "52073165",
   "metadata": {},
   "outputs": [],
   "source": [
    "colors = {\n",
    "    'Gafanhoto': 'green',\n",
    "    'Esperança': 'orange'\n",
    "}"
   ]
  },
  {
   "cell_type": "code",
   "execution_count": 3,
   "id": "90ab791f",
   "metadata": {},
   "outputs": [
    {
     "data": {
      "text/html": [
       "<div>\n",
       "<style scoped>\n",
       "    .dataframe tbody tr th:only-of-type {\n",
       "        vertical-align: middle;\n",
       "    }\n",
       "\n",
       "    .dataframe tbody tr th {\n",
       "        vertical-align: top;\n",
       "    }\n",
       "\n",
       "    .dataframe thead th {\n",
       "        text-align: right;\n",
       "    }\n",
       "</style>\n",
       "<table border=\"1\" class=\"dataframe\">\n",
       "  <thead>\n",
       "    <tr style=\"text-align: right;\">\n",
       "      <th></th>\n",
       "      <th>Espécie</th>\n",
       "      <th>Comprimento do Abdômen</th>\n",
       "      <th>Comprimento das Antenas</th>\n",
       "    </tr>\n",
       "  </thead>\n",
       "  <tbody>\n",
       "    <tr>\n",
       "      <th>0</th>\n",
       "      <td>Gafanhoto</td>\n",
       "      <td>0.5</td>\n",
       "      <td>7.0</td>\n",
       "    </tr>\n",
       "    <tr>\n",
       "      <th>1</th>\n",
       "      <td>Gafanhoto</td>\n",
       "      <td>0.5</td>\n",
       "      <td>6.0</td>\n",
       "    </tr>\n",
       "  </tbody>\n",
       "</table>\n",
       "</div>"
      ],
      "text/plain": [
       "     Espécie  Comprimento do Abdômen  Comprimento das Antenas\n",
       "0  Gafanhoto                     0.5                      7.0\n",
       "1  Gafanhoto                     0.5                      6.0"
      ]
     },
     "execution_count": 3,
     "metadata": {},
     "output_type": "execute_result"
    }
   ],
   "source": [
    "df = pd.read_excel('../dados/00.fase 2/gaf_esp.xlsx')\n",
    "df.head(2)"
   ]
  },
  {
   "cell_type": "markdown",
   "id": "62f0409e",
   "metadata": {},
   "source": [
    "**Variável target:** Espécie"
   ]
  },
  {
   "cell_type": "code",
   "execution_count": 4,
   "id": "f8efb099",
   "metadata": {},
   "outputs": [
    {
     "data": {
      "text/html": [
       "<div>\n",
       "<style scoped>\n",
       "    .dataframe tbody tr th:only-of-type {\n",
       "        vertical-align: middle;\n",
       "    }\n",
       "\n",
       "    .dataframe tbody tr th {\n",
       "        vertical-align: top;\n",
       "    }\n",
       "\n",
       "    .dataframe thead th {\n",
       "        text-align: right;\n",
       "    }\n",
       "</style>\n",
       "<table border=\"1\" class=\"dataframe\">\n",
       "  <thead>\n",
       "    <tr style=\"text-align: right;\">\n",
       "      <th></th>\n",
       "      <th>especie</th>\n",
       "      <th>abdomen</th>\n",
       "      <th>antenas</th>\n",
       "    </tr>\n",
       "  </thead>\n",
       "  <tbody>\n",
       "    <tr>\n",
       "      <th>0</th>\n",
       "      <td>Gafanhoto</td>\n",
       "      <td>0.5</td>\n",
       "      <td>7.0</td>\n",
       "    </tr>\n",
       "    <tr>\n",
       "      <th>1</th>\n",
       "      <td>Gafanhoto</td>\n",
       "      <td>0.5</td>\n",
       "      <td>6.0</td>\n",
       "    </tr>\n",
       "    <tr>\n",
       "      <th>2</th>\n",
       "      <td>Gafanhoto</td>\n",
       "      <td>0.6</td>\n",
       "      <td>5.5</td>\n",
       "    </tr>\n",
       "  </tbody>\n",
       "</table>\n",
       "</div>"
      ],
      "text/plain": [
       "     especie  abdomen  antenas\n",
       "0  Gafanhoto      0.5      7.0\n",
       "1  Gafanhoto      0.5      6.0\n",
       "2  Gafanhoto      0.6      5.5"
      ]
     },
     "execution_count": 4,
     "metadata": {},
     "output_type": "execute_result"
    }
   ],
   "source": [
    "df.columns = ['especie','abdomen','antenas']\n",
    "df.head(3)"
   ]
  },
  {
   "cell_type": "code",
   "execution_count": 6,
   "id": "1977a3de",
   "metadata": {},
   "outputs": [
    {
     "data": {
      "text/html": [
       "<div>\n",
       "<style scoped>\n",
       "    .dataframe tbody tr th:only-of-type {\n",
       "        vertical-align: middle;\n",
       "    }\n",
       "\n",
       "    .dataframe tbody tr th {\n",
       "        vertical-align: top;\n",
       "    }\n",
       "\n",
       "    .dataframe thead th {\n",
       "        text-align: right;\n",
       "    }\n",
       "</style>\n",
       "<table border=\"1\" class=\"dataframe\">\n",
       "  <thead>\n",
       "    <tr style=\"text-align: right;\">\n",
       "      <th></th>\n",
       "      <th>count</th>\n",
       "      <th>mean</th>\n",
       "      <th>std</th>\n",
       "      <th>min</th>\n",
       "      <th>25%</th>\n",
       "      <th>50%</th>\n",
       "      <th>75%</th>\n",
       "      <th>max</th>\n",
       "    </tr>\n",
       "  </thead>\n",
       "  <tbody>\n",
       "    <tr>\n",
       "      <th>abdomen</th>\n",
       "      <td>100.0</td>\n",
       "      <td>4.9362</td>\n",
       "      <td>3.343806</td>\n",
       "      <td>0.50</td>\n",
       "      <td>1.6925</td>\n",
       "      <td>4.5</td>\n",
       "      <td>8.2</td>\n",
       "      <td>10.0</td>\n",
       "    </tr>\n",
       "    <tr>\n",
       "      <th>antenas</th>\n",
       "      <td>100.0</td>\n",
       "      <td>5.3824</td>\n",
       "      <td>2.296001</td>\n",
       "      <td>0.89</td>\n",
       "      <td>3.7750</td>\n",
       "      <td>5.5</td>\n",
       "      <td>7.0</td>\n",
       "      <td>9.7</td>\n",
       "    </tr>\n",
       "  </tbody>\n",
       "</table>\n",
       "</div>"
      ],
      "text/plain": [
       "         count    mean       std   min     25%  50%  75%   max\n",
       "abdomen  100.0  4.9362  3.343806  0.50  1.6925  4.5  8.2  10.0\n",
       "antenas  100.0  5.3824  2.296001  0.89  3.7750  5.5  7.0   9.7"
      ]
     },
     "execution_count": 6,
     "metadata": {},
     "output_type": "execute_result"
    }
   ],
   "source": [
    "df.describe().T"
   ]
  },
  {
   "cell_type": "code",
   "execution_count": 8,
   "id": "9db47a87",
   "metadata": {},
   "outputs": [
    {
     "data": {
      "text/plain": [
       "(100, 3)"
      ]
     },
     "execution_count": 8,
     "metadata": {},
     "output_type": "execute_result"
    }
   ],
   "source": [
    "df.shape"
   ]
  },
  {
   "cell_type": "code",
   "execution_count": null,
   "id": "0def941b",
   "metadata": {},
   "outputs": [
    {
     "data": {
      "text/plain": [
       "<Axes: xlabel='especie', ylabel='count'>"
      ]
     },
     "execution_count": 116,
     "metadata": {},
     "output_type": "execute_result"
    },
    {
     "data": {
      "image/png": "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",
      "text/plain": [
       "<Figure size 640x480 with 1 Axes>"
      ]
     },
     "metadata": {},
     "output_type": "display_data"
    }
   ],
   "source": [
    "sns.countplot(data=df, x='especie', palette=colors, hue='especie')"
   ]
  },
  {
   "cell_type": "code",
   "execution_count": 14,
   "id": "04027703",
   "metadata": {},
   "outputs": [
    {
     "data": {
      "text/html": [
       "<div>\n",
       "<style scoped>\n",
       "    .dataframe tbody tr th:only-of-type {\n",
       "        vertical-align: middle;\n",
       "    }\n",
       "\n",
       "    .dataframe tbody tr th {\n",
       "        vertical-align: top;\n",
       "    }\n",
       "\n",
       "    .dataframe thead tr th {\n",
       "        text-align: left;\n",
       "    }\n",
       "\n",
       "    .dataframe thead tr:last-of-type th {\n",
       "        text-align: right;\n",
       "    }\n",
       "</style>\n",
       "<table border=\"1\" class=\"dataframe\">\n",
       "  <thead>\n",
       "    <tr>\n",
       "      <th></th>\n",
       "      <th colspan=\"8\" halign=\"left\">abdomen</th>\n",
       "      <th colspan=\"8\" halign=\"left\">antenas</th>\n",
       "    </tr>\n",
       "    <tr>\n",
       "      <th></th>\n",
       "      <th>count</th>\n",
       "      <th>mean</th>\n",
       "      <th>std</th>\n",
       "      <th>min</th>\n",
       "      <th>25%</th>\n",
       "      <th>50%</th>\n",
       "      <th>75%</th>\n",
       "      <th>max</th>\n",
       "      <th>count</th>\n",
       "      <th>mean</th>\n",
       "      <th>std</th>\n",
       "      <th>min</th>\n",
       "      <th>25%</th>\n",
       "      <th>50%</th>\n",
       "      <th>75%</th>\n",
       "      <th>max</th>\n",
       "    </tr>\n",
       "    <tr>\n",
       "      <th>especie</th>\n",
       "      <th></th>\n",
       "      <th></th>\n",
       "      <th></th>\n",
       "      <th></th>\n",
       "      <th></th>\n",
       "      <th></th>\n",
       "      <th></th>\n",
       "      <th></th>\n",
       "      <th></th>\n",
       "      <th></th>\n",
       "      <th></th>\n",
       "      <th></th>\n",
       "      <th></th>\n",
       "      <th></th>\n",
       "      <th></th>\n",
       "      <th></th>\n",
       "    </tr>\n",
       "  </thead>\n",
       "  <tbody>\n",
       "    <tr>\n",
       "      <th>Esperança</th>\n",
       "      <td>50.0</td>\n",
       "      <td>8.1206</td>\n",
       "      <td>1.129729</td>\n",
       "      <td>5.4</td>\n",
       "      <td>7.225</td>\n",
       "      <td>8.200</td>\n",
       "      <td>9.000</td>\n",
       "      <td>10.0</td>\n",
       "      <td>50.0</td>\n",
       "      <td>7.2156</td>\n",
       "      <td>1.334945</td>\n",
       "      <td>4.50</td>\n",
       "      <td>6.205</td>\n",
       "      <td>7.00</td>\n",
       "      <td>8.2</td>\n",
       "      <td>9.7</td>\n",
       "    </tr>\n",
       "    <tr>\n",
       "      <th>Gafanhoto</th>\n",
       "      <td>50.0</td>\n",
       "      <td>1.7518</td>\n",
       "      <td>0.786941</td>\n",
       "      <td>0.5</td>\n",
       "      <td>1.200</td>\n",
       "      <td>1.685</td>\n",
       "      <td>2.415</td>\n",
       "      <td>3.6</td>\n",
       "      <td>50.0</td>\n",
       "      <td>3.5492</td>\n",
       "      <td>1.417861</td>\n",
       "      <td>0.89</td>\n",
       "      <td>2.550</td>\n",
       "      <td>3.77</td>\n",
       "      <td>4.3</td>\n",
       "      <td>7.0</td>\n",
       "    </tr>\n",
       "  </tbody>\n",
       "</table>\n",
       "</div>"
      ],
      "text/plain": [
       "          abdomen                                                   antenas  \\\n",
       "            count    mean       std  min    25%    50%    75%   max   count   \n",
       "especie                                                                       \n",
       "Esperança    50.0  8.1206  1.129729  5.4  7.225  8.200  9.000  10.0    50.0   \n",
       "Gafanhoto    50.0  1.7518  0.786941  0.5  1.200  1.685  2.415   3.6    50.0   \n",
       "\n",
       "                                                          \n",
       "             mean       std   min    25%   50%  75%  max  \n",
       "especie                                                   \n",
       "Esperança  7.2156  1.334945  4.50  6.205  7.00  8.2  9.7  \n",
       "Gafanhoto  3.5492  1.417861  0.89  2.550  3.77  4.3  7.0  "
      ]
     },
     "execution_count": 14,
     "metadata": {},
     "output_type": "execute_result"
    }
   ],
   "source": [
    "df.groupby('especie').describe()"
   ]
  },
  {
   "cell_type": "code",
   "execution_count": 21,
   "id": "d113cb1b",
   "metadata": {},
   "outputs": [],
   "source": [
    "filtro_esp = df['especie'] =='Esperança'\n",
    "filtro_gaf = df['especie'] =='Gafanhoto'"
   ]
  },
  {
   "cell_type": "code",
   "execution_count": 103,
   "id": "c3f848c3",
   "metadata": {},
   "outputs": [
    {
     "data": {
      "text/plain": [
       "Text(0.5, 0, 'Comprimento do Abdomen')"
      ]
     },
     "execution_count": 103,
     "metadata": {},
     "output_type": "execute_result"
    },
    {
     "data": {
      "image/png": "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