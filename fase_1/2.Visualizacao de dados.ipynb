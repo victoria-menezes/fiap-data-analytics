{
 "cells": [
  {
   "cell_type": "markdown",
   "id": "a60ffe4e",
   "metadata": {},
   "source": [
    "# 2.1  Tratamento, exploração e visualização de dados\n",
    "Novamente trazendo os nossos dados:"
   ]
  },
  {
   "cell_type": "code",
   "execution_count": 199,
   "id": "71fb06cf",
   "metadata": {},
   "outputs": [],
   "source": [
    "import pandas as pd\n",
    "from cycler import cycler\n",
    "import numpy as np\n",
    "import re\n",
    "import matplotlib.ticker as ticker\n",
    "import matplotlib.pyplot as plt\n",
    "import xlrd\n",
    "import plotly.express as px\n",
    "import seaborn as sns\n",
    "from io import StringIO"
   ]
  },
  {
   "cell_type": "code",
   "execution_count": 200,
   "id": "85b0292a",
   "metadata": {},
   "outputs": [
    {
     "name": "stderr",
     "output_type": "stream",
     "text": [
      "D:\\Temp\\ipykernel_24372\\2341964331.py:4: ParserWarning: Falling back to the 'python' engine because the 'c' engine does not support skipfooter; you can avoid this warning by specifying engine='python'.\n",
      "  df_gastos = pd.read_csv(url, encoding=\"ISO-8859-1\",sep=\";\",skiprows=3,skipfooter=12, thousands=\".\", decimal=\",\")\n"
     ]
    }
   ],
   "source": [
    "pd.options.display.float_format = '{:.2f}'.format\n",
    "\n",
    "url = \"../dados/nomes-atendimento-UF.csv\"\n",
    "df_gastos = pd.read_csv(url, encoding=\"ISO-8859-1\",sep=\";\",skiprows=3,skipfooter=12, thousands=\".\", decimal=\",\")\n",
    "\n",
    "colunas_preenchidas = df_gastos.mean(numeric_only=True).index.tolist()\n",
    "colunas_preenchidas.insert(0,'Unidade da Federação')\n",
    "df_gastos_preenchido = df_gastos[colunas_preenchidas]\n",
    "df_gastos_preenchido = df_gastos_preenchido.set_index('Unidade da Federação')\n",
    "colunas_remover = df_gastos_preenchido.columns[1:7]\n",
    "df_gastos_preenchido = df_gastos_preenchido.drop(colunas_remover,axis=1)\n",
    "df_gastos_preenchido.iloc[:,1:] = df_gastos_preenchido.iloc[:,1:]/1000000\n",
    "\n",
    "estados_regioes = {k:'Norte' for k in ['Amazonas','Pará','Roraima','Amapá','Rondônia','Acre','Tocantins']}\n",
    "estados_regioes.update({k:'Nordeste' for k in ['Piauí','Maranhão','Pernambuco','Rio Grande do Norte','Paraíba','Ceará','Bahia','Alagoas','Sergipe']})\n",
    "estados_regioes.update({k:'Centro-Oeste' for k in ['Mato Grosso', 'Mato Grosso do Sul', 'Goiás','Distrito Federal']})\n",
    "estados_regioes.update({k:'Sudeste' for k in ['São Paulo', 'Rio de Janeiro', 'Espírito Santo', 'Minas Gerais']})\n",
    "estados_regioes.update({k:'Sul' for k in ['Rio Grande do Sul', 'Paraná', 'Santa Catarina']})\n",
    "\n",
    "\n",
    "lista_estados = [re.sub('[0-9]','',x).strip() for x in df_gastos_preenchido.index.values]\n",
    "df_gastos_preenchido.insert(0, 'Região', [estados_regioes[estado] for estado in lista_estados])\n",
    "\n",
    "df_gastos_numericos_sem_total = df_gastos_preenchido.iloc[:,1:-1] # apenas os dados numericos e sem o total no final"
   ]
  },
  {
   "cell_type": "markdown",
   "id": "1f13c8f9",
   "metadata": {},
   "source": [
    "Importando novo arquivo:\n",
    "Poderíamos também importá-lo por meio de um http se ele estivesse, por exemplo, hosteado no gitHub."
   ]
  },
  {
   "cell_type": "code",
   "execution_count": 201,
   "id": "d970185b",
   "metadata": {},
   "outputs": [
    {
     "data": {
      "text/html": [
       "<div>\n",
       "<style scoped>\n",
       "    .dataframe tbody tr th:only-of-type {\n",
       "        vertical-align: middle;\n",
       "    }\n",
       "\n",
       "    .dataframe tbody tr th {\n",
       "        vertical-align: top;\n",
       "    }\n",
       "\n",
       "    .dataframe thead th {\n",
       "        text-align: right;\n",
       "    }\n",
       "</style>\n",
       "<table border=\"1\" class=\"dataframe\">\n",
       "  <thead>\n",
       "    <tr style=\"text-align: right;\">\n",
       "      <th></th>\n",
       "      <th>BRASIL E UNIDADES DA FEDERAÇÃO</th>\n",
       "      <th>POPULAÇÃO ESTIMADA</th>\n",
       "    </tr>\n",
       "  </thead>\n",
       "  <tbody>\n",
       "    <tr>\n",
       "      <th>0</th>\n",
       "      <td>Brasil</td>\n",
       "      <td>212583750</td>\n",
       "    </tr>\n",
       "    <tr>\n",
       "      <th>1</th>\n",
       "      <td>Norte</td>\n",
       "      <td>18669345</td>\n",
       "    </tr>\n",
       "    <tr>\n",
       "      <th>2</th>\n",
       "      <td>Rondônia</td>\n",
       "      <td>1746227</td>\n",
       "    </tr>\n",
       "    <tr>\n",
       "      <th>3</th>\n",
       "      <td>Acre</td>\n",
       "      <td>880631</td>\n",
       "    </tr>\n",
       "    <tr>\n",
       "      <th>4</th>\n",
       "      <td>Amazonas</td>\n",
       "      <td>4281209</td>\n",
       "    </tr>\n",
       "    <tr>\n",
       "      <th>5</th>\n",
       "      <td>Roraima</td>\n",
       "      <td>716793</td>\n",
       "    </tr>\n",
       "    <tr>\n",
       "      <th>6</th>\n",
       "      <td>Pará</td>\n",
       "      <td>8664306</td>\n",
       "    </tr>\n",
       "    <tr>\n",
       "      <th>7</th>\n",
       "      <td>Amapá</td>\n",
       "      <td>802837</td>\n",
       "    </tr>\n",
       "    <tr>\n",
       "      <th>8</th>\n",
       "      <td>Tocantins</td>\n",
       "      <td>1577342</td>\n",
       "    </tr>\n",
       "    <tr>\n",
       "      <th>9</th>\n",
       "      <td>Nordeste</td>\n",
       "      <td>57112096</td>\n",
       "    </tr>\n",
       "  </tbody>\n",
       "</table>\n",
       "</div>"
      ],
      "text/plain": [
       "  BRASIL E UNIDADES DA FEDERAÇÃO  POPULAÇÃO ESTIMADA\n",
       "0                         Brasil           212583750\n",
       "1                          Norte            18669345\n",
       "2                       Rondônia             1746227\n",
       "3                           Acre              880631\n",
       "4                       Amazonas             4281209\n",
       "5                        Roraima              716793\n",
       "6                           Pará             8664306\n",
       "7                          Amapá              802837\n",
       "8                      Tocantins             1577342\n",
       "9                       Nordeste            57112096"
      ]
     },
     "execution_count": 201,
     "metadata": {},
     "output_type": "execute_result"
    }
   ],
   "source": [
    "df_populacao_estimada = pd.read_excel('../dados/IBGE_POP2024_20241230.xls', skiprows=1, skipfooter=2)\n",
    "df_populacao_estimada.head(10)"
   ]
  },
  {
   "cell_type": "markdown",
   "id": "bf31d222",
   "metadata": {},
   "source": [
    "Vamos limpar esses dados, para inclui apenas ESTADOS, e vamos renomear as colunas para ficar mais fácil de trabalhar."
   ]
  },
  {
   "cell_type": "code",
   "execution_count": 202,
   "id": "fe7bf33b",
   "metadata": {},
   "outputs": [],
   "source": [
    "df_populacao_estimada.columns = ['UF', 'populacao_estimada']"
   ]
  },
  {
   "cell_type": "code",
   "execution_count": 203,
   "id": "c9240cd8",
   "metadata": {},
   "outputs": [
    {
     "data": {
      "text/html": [
       "<div>\n",
       "<style scoped>\n",
       "    .dataframe tbody tr th:only-of-type {\n",
       "        vertical-align: middle;\n",
       "    }\n",
       "\n",
       "    .dataframe tbody tr th {\n",
       "        vertical-align: top;\n",
       "    }\n",
       "\n",
       "    .dataframe thead th {\n",
       "        text-align: right;\n",
       "    }\n",
       "</style>\n",
       "<table border=\"1\" class=\"dataframe\">\n",
       "  <thead>\n",
       "    <tr style=\"text-align: right;\">\n",
       "      <th></th>\n",
       "      <th>UF</th>\n",
       "      <th>populacao_estimada</th>\n",
       "    </tr>\n",
       "  </thead>\n",
       "  <tbody>\n",
       "    <tr>\n",
       "      <th>2</th>\n",
       "      <td>Rondônia</td>\n",
       "      <td>1746227</td>\n",
       "    </tr>\n",
       "    <tr>\n",
       "      <th>3</th>\n",
       "      <td>Acre</td>\n",
       "      <td>880631</td>\n",
       "    </tr>\n",
       "    <tr>\n",
       "      <th>4</th>\n",
       "      <td>Amazonas</td>\n",
       "      <td>4281209</td>\n",
       "    </tr>\n",
       "    <tr>\n",
       "      <th>5</th>\n",
       "      <td>Roraima</td>\n",
       "      <td>716793</td>\n",
       "    </tr>\n",
       "    <tr>\n",
       "      <th>6</th>\n",
       "      <td>Pará</td>\n",
       "      <td>8664306</td>\n",
       "    </tr>\n",
       "    <tr>\n",
       "      <th>7</th>\n",
       "      <td>Amapá</td>\n",
       "      <td>802837</td>\n",
       "    </tr>\n",
       "    <tr>\n",
       "      <th>8</th>\n",
       "      <td>Tocantins</td>\n",
       "      <td>1577342</td>\n",
       "    </tr>\n",
       "    <tr>\n",
       "      <th>10</th>\n",
       "      <td>Maranhão</td>\n",
       "      <td>7010960</td>\n",
       "    </tr>\n",
       "    <tr>\n",
       "      <th>11</th>\n",
       "      <td>Piauí</td>\n",
       "      <td>3375646</td>\n",
       "    </tr>\n",
       "    <tr>\n",
       "      <th>12</th>\n",
       "      <td>Ceará</td>\n",
       "      <td>9233656</td>\n",
       "    </tr>\n",
       "    <tr>\n",
       "      <th>13</th>\n",
       "      <td>Rio Grande do Norte</td>\n",
       "      <td>3446071</td>\n",
       "    </tr>\n",
       "    <tr>\n",
       "      <th>14</th>\n",
       "      <td>Paraíba</td>\n",
       "      <td>4145040</td>\n",
       "    </tr>\n",
       "    <tr>\n",
       "      <th>15</th>\n",
       "      <td>Pernambuco</td>\n",
       "      <td>9539029</td>\n",
       "    </tr>\n",
       "    <tr>\n",
       "      <th>16</th>\n",
       "      <td>Alagoas</td>\n",
       "      <td>3220104</td>\n",
       "    </tr>\n",
       "    <tr>\n",
       "      <th>17</th>\n",
       "      <td>Sergipe</td>\n",
       "      <td>2291077</td>\n",
       "    </tr>\n",
       "    <tr>\n",
       "      <th>18</th>\n",
       "      <td>Bahia</td>\n",
       "      <td>14850513</td>\n",
       "    </tr>\n",
       "    <tr>\n",
       "      <th>20</th>\n",
       "      <td>Minas Gerais</td>\n",
       "      <td>21322691</td>\n",
       "    </tr>\n",
       "    <tr>\n",
       "      <th>21</th>\n",
       "      <td>Espírito Santo</td>\n",
       "      <td>4102129</td>\n",
       "    </tr>\n",
       "    <tr>\n",
       "      <th>22</th>\n",
       "      <td>Rio de Janeiro</td>\n",
       "      <td>17219679</td>\n",
       "    </tr>\n",
       "    <tr>\n",
       "      <th>23</th>\n",
       "      <td>São Paulo</td>\n",
       "      <td>45973194</td>\n",
       "    </tr>\n",
       "    <tr>\n",
       "      <th>25</th>\n",
       "      <td>Paraná</td>\n",
       "      <td>11824665</td>\n",
       "    </tr>\n",
       "    <tr>\n",
       "      <th>26</th>\n",
       "      <td>Santa Catarina</td>\n",
       "      <td>8058441</td>\n",
       "    </tr>\n",
       "    <tr>\n",
       "      <th>27</th>\n",
       "      <td>Rio Grande do Sul</td>\n",
       "      <td>11229915</td>\n",
       "    </tr>\n",
       "    <tr>\n",
       "      <th>28</th>\n",
       "      <td>Centro-Oeste</td>\n",
       "      <td>17071595</td>\n",
       "    </tr>\n",
       "    <tr>\n",
       "      <th>29</th>\n",
       "      <td>Mato Grosso do Sul</td>\n",
       "      <td>2901895</td>\n",
       "    </tr>\n",
       "    <tr>\n",
       "      <th>30</th>\n",
       "      <td>Mato Grosso</td>\n",
       "      <td>3836399</td>\n",
       "    </tr>\n",
       "    <tr>\n",
       "      <th>31</th>\n",
       "      <td>Goiás</td>\n",
       "      <td>7350483</td>\n",
       "    </tr>\n",
       "    <tr>\n",
       "      <th>32</th>\n",
       "      <td>Distrito Federal</td>\n",
       "      <td>2982818</td>\n",
       "    </tr>\n",
       "  </tbody>\n",
       "</table>\n",
       "</div>"
      ],
      "text/plain": [
       "                     UF  populacao_estimada\n",
       "2              Rondônia             1746227\n",
       "3                  Acre              880631\n",
       "4              Amazonas             4281209\n",
       "5               Roraima              716793\n",
       "6                  Pará             8664306\n",
       "7                 Amapá              802837\n",
       "8             Tocantins             1577342\n",
       "10             Maranhão             7010960\n",
       "11                Piauí             3375646\n",
       "12                Ceará             9233656\n",
       "13  Rio Grande do Norte             3446071\n",
       "14              Paraíba             4145040\n",
       "15           Pernambuco             9539029\n",
       "16              Alagoas             3220104\n",
       "17              Sergipe             2291077\n",
       "18                Bahia            14850513\n",
       "20         Minas Gerais            21322691\n",
       "21       Espírito Santo             4102129\n",
       "22       Rio de Janeiro            17219679\n",
       "23            São Paulo            45973194\n",
       "25               Paraná            11824665\n",
       "26       Santa Catarina             8058441\n",
       "27    Rio Grande do Sul            11229915\n",
       "28         Centro-Oeste            17071595\n",
       "29   Mato Grosso do Sul             2901895\n",
       "30          Mato Grosso             3836399\n",
       "31                Goiás             7350483\n",
       "32     Distrito Federal             2982818"
      ]
     },
     "execution_count": 203,
     "metadata": {},
     "output_type": "execute_result"
    }
   ],
   "source": [
    "dropar = ['Brasil', 'Norte', 'Nordeste', 'Sul', 'Sudeste']\n",
    "filtro = df_populacao_estimada['UF'].isin(dropar)\n",
    "df_populacao_estimada = df_populacao_estimada[~filtro]\n",
    "df_populacao_estimada"
   ]
  },
  {
   "cell_type": "markdown",
   "id": "dc13d5fa",
   "metadata": {},
   "source": [
    "Poderíamos também ler direto de uma string (essa tirada diretamente da tabela na Wikipedia):"
   ]
  },
  {
   "cell_type": "code",
   "execution_count": 204,
   "id": "5878b803",
   "metadata": {},
   "outputs": [],
   "source": [
    "populacao_estimada = \"\"\"Unidade federativa \tPopulação_2024(est) \tPopulação_2022 \tVariação (2010-2022) % \tVariação (2010-2022) Abs. \t% do total(2024)[4] \tPaís comparável(habitantes)[5][a]2024 (est.)\n",
    "São Paulo \t45 973 194 \t44 411 238 \t7,63% \t3 149 039 \t21,63% \t Iraque (46 042 015)\n",
    "Minas Gerais \t21 322 691 \t20 539 989 \t4,81% \t942 659 \t10,03% \t Zâmbia (21 314 956)\n",
    "Rio de Janeiro \t17 219 679 \t16 055 174 \t0,41% \t65 245 \t8,10% \tCamboja Camboja (17 638 801)\n",
    "Bahia \t14 850 513 \t14 141 626 \t0,89% \t124 720 \t6,99% \tGuiné (14 754 785)\n",
    "Paraná \t11 824 665 \t11 444 380 \t9,57% \t999 854 \t5,56% \tHaiti (11 772 557)\n",
    "Rio Grande do Sul \t11 229 915 \t10 882 965 \t1,77% \t189 036 \t5,28% \tRepública Dominicana (11 427 557)\n",
    "Pernambuco \t9 539 029 \t9 058 931 \t2,98% \t262 483 \t4,49% \tTogo (9 515 236)\n",
    "Ceará \t9 233 656 \t8 794 957 \t4,05% \t342 576 \t4,34% \t Áustria (9 120 813)\n",
    "Pará \t8 664 306 \t8 120 131 \t7,11% \t539 080 \t4,08% \tSerra Leoa (8 642 022)\n",
    "Santa Catarina \t8 058 441 \t7 610 361 \t21,80% \t1 361 925 \t3,79% \tLaos Laos (7 769 819)\n",
    "Goiás \t7 350 483 \t7 056 495 \t17,53% \t1 052 707 \t3,46% \t Líbia (7 381 023)\n",
    "Maranhão \t7 010 960 \t6 776 699 \t3,07% \t201 910 \t3,30% \t Paraguai (6 929 153)\n",
    "Paraíba \t4 145 040 \t3 974 687 \t5,53% \t208 159 \t1,95% \t Croácia (3 875 325)\n",
    "Amazonas \t4 281 209 \t3 941 613 \t13,14% \t457 628 \t2,01% \t Panamá (4 515 577)\n",
    "Espírito Santo \t4 102 129 \t3 833 712 \t9,07% \t318 760 \t1,93% \t Croácia (3 875 325)\n",
    "Mato Grosso \t3 836 399 \t3 658 649 \t20,54% \t623 527 \t1,80% \t Geórgia (3 807 670)\n",
    "Rio Grande do Norte \t3 446 071 \t3 302 729 \t4,25% \t134 702 \t1,62% \tMongólia Mongólia (3 475 540)\n",
    "Piauí \t3 375 646 \t3 271 199 \t4,90% \t152 839 \t1,59% \tUruguai (3 386 588)\n",
    "Alagoas \t3 220 104 \t3 127 683 \t0,23% \t7 189 \t1,51% \t Bósnia e Herzegovina (3 164 253)\n",
    "Distrito Federal \t2 982 818 \t2 817 381 \t9,62% \t247 221 \t1,40% \t Armênia (2 973 840)\n",
    "Mato Grosso do Sul \t2 901 895 \t2 757 013 \t12,58% \t307 989 \t1,37% \t Lituânia (2 859 110)\n",
    "Sergipe \t2 291 077 \t2 210 004 \t6,87% \t141 987 \t1,08% \tLesoto (2 337 423)\n",
    "Rondônia \t1 746 227 \t1 581 196 \t1,20% \t18 787 \t0,82% \tMacedónia do Norte Macedônia do Norte (1 823 009)\n",
    "Tocantins \t1 577 342 \t1 511 460 \t9,25% \t128 015 \t0,74% \t Bahrein (1 607 049)\n",
    "Acre \t880 631 \t830 018 \t13,15% \t96 459 \t0,41% \tComores (866 628)\n",
    "Amapá \t802 837 \t733 759 \t9,59% \t64 233 \t0,38% \t Butão (791 524)\n",
    "Roraima \t716 793 \t636 707 \t41,34% \t186 228 \t0,34% \t Luxemburgo (673 036) \n",
    "\"\"\""
   ]
  },
  {
   "cell_type": "code",
   "execution_count": 205,
   "id": "cb5bff4f",
   "metadata": {},
   "outputs": [
    {
     "data": {
      "text/html": [
       "<div>\n",
       "<style scoped>\n",
       "    .dataframe tbody tr th:only-of-type {\n",
       "        vertical-align: middle;\n",
       "    }\n",
       "\n",
       "    .dataframe tbody tr th {\n",
       "        vertical-align: top;\n",
       "    }\n",
       "\n",
       "    .dataframe thead th {\n",
       "        text-align: right;\n",
       "    }\n",
       "</style>\n",
       "<table border=\"1\" class=\"dataframe\">\n",
       "  <thead>\n",
       "    <tr style=\"text-align: right;\">\n",
       "      <th></th>\n",
       "      <th>Unidade federativa</th>\n",
       "      <th>População_2024(est)</th>\n",
       "      <th>População_2022</th>\n",
       "      <th>Variação (2010-2022) %</th>\n",
       "      <th>Variação (2010-2022) Abs.</th>\n",
       "      <th>% do total(2024)[4]</th>\n",
       "      <th>País comparável(habitantes)[5][a]2024 (est.)</th>\n",
       "    </tr>\n",
       "  </thead>\n",
       "  <tbody>\n",
       "    <tr>\n",
       "      <th>0</th>\n",
       "      <td>São Paulo</td>\n",
       "      <td>45 973 194</td>\n",
       "      <td>44 411 238</td>\n",
       "      <td>7,63%</td>\n",
       "      <td>3 149 039</td>\n",
       "      <td>21,63%</td>\n",
       "      <td>Iraque (46 042 015)</td>\n",
       "    </tr>\n",
       "    <tr>\n",
       "      <th>1</th>\n",
       "      <td>Minas Gerais</td>\n",
       "      <td>21 322 691</td>\n",
       "      <td>20 539 989</td>\n",
       "      <td>4,81%</td>\n",
       "      <td>942 659</td>\n",
       "      <td>10,03%</td>\n",
       "      <td>Zâmbia (21 314 956)</td>\n",
       "    </tr>\n",
       "  </tbody>\n",
       "</table>\n",
       "</div>"
      ],
      "text/plain": [
       "  Unidade federativa  População_2024(est)  População_2022   \\\n",
       "0          São Paulo           45 973 194      44 411 238    \n",
       "1       Minas Gerais           21 322 691      20 539 989    \n",
       "\n",
       "  Variação (2010-2022) %  Variação (2010-2022) Abs.  % do total(2024)[4]   \\\n",
       "0                  7,63%                  3 149 039               21,63%    \n",
       "1                  4,81%                    942 659               10,03%    \n",
       "\n",
       "  País comparável(habitantes)[5][a]2024 (est.)  \n",
       "0                          Iraque (46 042 015)  \n",
       "1                          Zâmbia (21 314 956)  "
      ]
     },
     "execution_count": 205,
     "metadata": {},
     "output_type": "execute_result"
    }
   ],
   "source": [
    "populacao_estimada_IO = StringIO(populacao_estimada)\n",
    "\n",
    "df_populacao_estimada_string = pd.read_csv(populacao_estimada_IO, sep='\\t')\n",
    "df_populacao_estimada_string.head(2)"
   ]
  },
  {
   "cell_type": "code",
   "execution_count": 206,
   "id": "a4cfeba0",
   "metadata": {},
   "outputs": [],
   "source": [
    "df_populacao_estimada_string.columns = ['UF', 'populacao_2024', 'populacao_2022', 'variacao_porcentagem', 'variacao_absoluta', 'porcentagem', 'pais_comparavel']"
   ]
  },
  {
   "cell_type": "code",
   "execution_count": 207,
   "id": "9c958d15",
   "metadata": {},
   "outputs": [
    {
     "data": {
      "text/html": [
       "<div>\n",
       "<style scoped>\n",
       "    .dataframe tbody tr th:only-of-type {\n",
       "        vertical-align: middle;\n",
       "    }\n",
       "\n",
       "    .dataframe tbody tr th {\n",
       "        vertical-align: top;\n",
       "    }\n",
       "\n",
       "    .dataframe thead th {\n",
       "        text-align: right;\n",
       "    }\n",
       "</style>\n",
       "<table border=\"1\" class=\"dataframe\">\n",
       "  <thead>\n",
       "    <tr style=\"text-align: right;\">\n",
       "      <th></th>\n",
       "      <th>UF</th>\n",
       "      <th>populacao_2024</th>\n",
       "      <th>populacao_2022</th>\n",
       "      <th>variacao_porcentagem</th>\n",
       "      <th>variacao_absoluta</th>\n",
       "      <th>porcentagem</th>\n",
       "      <th>pais_comparavel</th>\n",
       "    </tr>\n",
       "  </thead>\n",
       "  <tbody>\n",
       "    <tr>\n",
       "      <th>0</th>\n",
       "      <td>São Paulo</td>\n",
       "      <td>45 973 194</td>\n",
       "      <td>44 411 238</td>\n",
       "      <td>7,63%</td>\n",
       "      <td>3 149 039</td>\n",
       "      <td>21,63%</td>\n",
       "      <td>Iraque (46 042 015)</td>\n",
       "    </tr>\n",
       "    <tr>\n",
       "      <th>1</th>\n",
       "      <td>Minas Gerais</td>\n",
       "      <td>21 322 691</td>\n",
       "      <td>20 539 989</td>\n",
       "      <td>4,81%</td>\n",
       "      <td>942 659</td>\n",
       "      <td>10,03%</td>\n",
       "      <td>Zâmbia (21 314 956)</td>\n",
       "    </tr>\n",
       "    <tr>\n",
       "      <th>2</th>\n",
       "      <td>Rio de Janeiro</td>\n",
       "      <td>17 219 679</td>\n",
       "      <td>16 055 174</td>\n",
       "      <td>0,41%</td>\n",
       "      <td>65 245</td>\n",
       "      <td>8,10%</td>\n",
       "      <td>Camboja Camboja (17 638 801)</td>\n",
       "    </tr>\n",
       "  </tbody>\n",
       "</table>\n",
       "</div>"
      ],
      "text/plain": [
       "                UF populacao_2024 populacao_2022 variacao_porcentagem  \\\n",
       "0       São Paulo     45 973 194     44 411 238                7,63%    \n",
       "1    Minas Gerais     21 322 691     20 539 989                4,81%    \n",
       "2  Rio de Janeiro     17 219 679     16 055 174                0,41%    \n",
       "\n",
       "  variacao_absoluta porcentagem               pais_comparavel  \n",
       "0        3 149 039      21,63%            Iraque (46 042 015)  \n",
       "1          942 659      10,03%            Zâmbia (21 314 956)  \n",
       "2           65 245       8,10%   Camboja Camboja (17 638 801)  "
      ]
     },
     "execution_count": 207,
     "metadata": {},
     "output_type": "execute_result"
    }
   ],
   "source": [
    "df_populacao_estimada_string.head(3)"
   ]
  },
  {
   "cell_type": "markdown",
   "id": "092b4019",
   "metadata": {},
   "source": [
    "Vamos aprimorar a formatação desses números"
   ]
  },
  {
   "cell_type": "code",
   "execution_count": 208,
   "id": "4fd72a24",
   "metadata": {},
   "outputs": [
    {
     "data": {
      "text/html": [
       "<div>\n",
       "<style scoped>\n",
       "    .dataframe tbody tr th:only-of-type {\n",
       "        vertical-align: middle;\n",
       "    }\n",
       "\n",
       "    .dataframe tbody tr th {\n",
       "        vertical-align: top;\n",
       "    }\n",
       "\n",
       "    .dataframe thead th {\n",
       "        text-align: right;\n",
       "    }\n",
       "</style>\n",
       "<table border=\"1\" class=\"dataframe\">\n",
       "  <thead>\n",
       "    <tr style=\"text-align: right;\">\n",
       "      <th></th>\n",
       "      <th>UF</th>\n",
       "      <th>populacao_2024</th>\n",
       "      <th>populacao_2022</th>\n",
       "      <th>variacao_porcentagem</th>\n",
       "      <th>variacao_absoluta</th>\n",
       "      <th>porcentagem</th>\n",
       "      <th>pais_comparavel</th>\n",
       "    </tr>\n",
       "  </thead>\n",
       "  <tbody>\n",
       "    <tr>\n",
       "      <th>0</th>\n",
       "      <td>São Paulo</td>\n",
       "      <td>45973194</td>\n",
       "      <td>44411238</td>\n",
       "      <td>7,63%</td>\n",
       "      <td>3149039</td>\n",
       "      <td>21,63%</td>\n",
       "      <td>Iraque (46 042 015)</td>\n",
       "    </tr>\n",
       "    <tr>\n",
       "      <th>1</th>\n",
       "      <td>Minas Gerais</td>\n",
       "      <td>21322691</td>\n",
       "      <td>20539989</td>\n",
       "      <td>4,81%</td>\n",
       "      <td>942659</td>\n",
       "      <td>10,03%</td>\n",
       "      <td>Zâmbia (21 314 956)</td>\n",
       "    </tr>\n",
       "  </tbody>\n",
       "</table>\n",
       "</div>"
      ],
      "text/plain": [
       "              UF  populacao_2024  populacao_2022 variacao_porcentagem  \\\n",
       "0     São Paulo         45973194        44411238               7,63%    \n",
       "1  Minas Gerais         21322691        20539989               4,81%    \n",
       "\n",
       "   variacao_absoluta porcentagem       pais_comparavel  \n",
       "0            3149039     21,63%    Iraque (46 042 015)  \n",
       "1             942659     10,03%    Zâmbia (21 314 956)  "
      ]
     },
     "execution_count": 208,
     "metadata": {},
     "output_type": "execute_result"
    }
   ],
   "source": [
    "df_populacao_estimada_string[['populacao_2024', \n",
    "                              'populacao_2022', \n",
    "                              'variacao_absoluta']] = df_populacao_estimada_string[['populacao_2024', \n",
    "                                                                                    'populacao_2022', \n",
    "                                                                                    'variacao_absoluta']].replace(' ', '', regex=True).astype(int)\n",
    "\n",
    "df_populacao_estimada_string.head(2)"
   ]
  },
  {
   "cell_type": "code",
   "execution_count": 209,
   "id": "5e0f96f7",
   "metadata": {},
   "outputs": [
    {
     "data": {
      "text/html": [
       "<div>\n",
       "<style scoped>\n",
       "    .dataframe tbody tr th:only-of-type {\n",
       "        vertical-align: middle;\n",
       "    }\n",
       "\n",
       "    .dataframe tbody tr th {\n",
       "        vertical-align: top;\n",
       "    }\n",
       "\n",
       "    .dataframe thead th {\n",
       "        text-align: right;\n",
       "    }\n",
       "</style>\n",
       "<table border=\"1\" class=\"dataframe\">\n",
       "  <thead>\n",
       "    <tr style=\"text-align: right;\">\n",
       "      <th></th>\n",
       "      <th>UF</th>\n",
       "      <th>populacao_2024</th>\n",
       "      <th>populacao_2022</th>\n",
       "      <th>variacao_porcentagem</th>\n",
       "      <th>variacao_absoluta</th>\n",
       "      <th>porcentagem</th>\n",
       "      <th>pais_comparavel</th>\n",
       "    </tr>\n",
       "  </thead>\n",
       "  <tbody>\n",
       "    <tr>\n",
       "      <th>0</th>\n",
       "      <td>São Paulo</td>\n",
       "      <td>45973194</td>\n",
       "      <td>44411238</td>\n",
       "      <td>7.63</td>\n",
       "      <td>3149039</td>\n",
       "      <td>21.63</td>\n",
       "      <td>Iraque (46 042 015)</td>\n",
       "    </tr>\n",
       "    <tr>\n",
       "      <th>1</th>\n",
       "      <td>Minas Gerais</td>\n",
       "      <td>21322691</td>\n",
       "      <td>20539989</td>\n",
       "      <td>4.81</td>\n",
       "      <td>942659</td>\n",
       "      <td>10.03</td>\n",
       "      <td>Zâmbia (21 314 956)</td>\n",
       "    </tr>\n",
       "    <tr>\n",
       "      <th>2</th>\n",
       "      <td>Rio de Janeiro</td>\n",
       "      <td>17219679</td>\n",
       "      <td>16055174</td>\n",
       "      <td>0.41</td>\n",
       "      <td>65245</td>\n",
       "      <td>8.10</td>\n",
       "      <td>Camboja Camboja (17 638 801)</td>\n",
       "    </tr>\n",
       "  </tbody>\n",
       "</table>\n",
       "</div>"
      ],
      "text/plain": [
       "                UF  populacao_2024  populacao_2022  variacao_porcentagem  \\\n",
       "0       São Paulo         45973194        44411238                  7.63   \n",
       "1    Minas Gerais         21322691        20539989                  4.81   \n",
       "2  Rio de Janeiro         17219679        16055174                  0.41   \n",
       "\n",
       "   variacao_absoluta  porcentagem               pais_comparavel  \n",
       "0            3149039        21.63           Iraque (46 042 015)  \n",
       "1             942659        10.03           Zâmbia (21 314 956)  \n",
       "2              65245         8.10  Camboja Camboja (17 638 801)  "
      ]
     },
     "execution_count": 209,
     "metadata": {},
     "output_type": "execute_result"
    }
   ],
   "source": [
    "colunas_porcentagem = ['variacao_porcentagem', 'porcentagem']\n",
    "df_populacao_estimada_string[colunas_porcentagem] = df_populacao_estimada_string[colunas_porcentagem].replace('%','',regex=True).replace(',','.', regex=True).astype(float)\n",
    "df_populacao_estimada_string.head(3)"
   ]
  },
  {
   "cell_type": "code",
   "execution_count": 210,
   "id": "166df21d",
   "metadata": {},
   "outputs": [
    {
     "data": {
      "text/html": [
       "<div>\n",
       "<style scoped>\n",
       "    .dataframe tbody tr th:only-of-type {\n",
       "        vertical-align: middle;\n",
       "    }\n",
       "\n",
       "    .dataframe tbody tr th {\n",
       "        vertical-align: top;\n",
       "    }\n",
       "\n",
       "    .dataframe thead th {\n",
       "        text-align: right;\n",
       "    }\n",
       "</style>\n",
       "<table border=\"1\" class=\"dataframe\">\n",
       "  <thead>\n",
       "    <tr style=\"text-align: right;\">\n",
       "      <th></th>\n",
       "      <th>UF</th>\n",
       "      <th>populacao_2024</th>\n",
       "    </tr>\n",
       "  </thead>\n",
       "  <tbody>\n",
       "    <tr>\n",
       "      <th>0</th>\n",
       "      <td>São Paulo</td>\n",
       "      <td>45973194</td>\n",
       "    </tr>\n",
       "    <tr>\n",
       "      <th>1</th>\n",
       "      <td>Minas Gerais</td>\n",
       "      <td>21322691</td>\n",
       "    </tr>\n",
       "  </tbody>\n",
       "</table>\n",
       "</div>"
      ],
      "text/plain": [
       "              UF  populacao_2024\n",
       "0     São Paulo         45973194\n",
       "1  Minas Gerais         21322691"
      ]
     },
     "execution_count": 210,
     "metadata": {},
     "output_type": "execute_result"
    }
   ],
   "source": [
    "df_populacao = df_populacao_estimada_string[['UF','populacao_2024']]\n",
    "df_populacao.head(2)"
   ]
  },
  {
   "cell_type": "code",
   "execution_count": 211,
   "id": "f2d701de",
   "metadata": {},
   "outputs": [
    {
     "data": {
      "text/plain": [
       "Unidade da Federação\n",
       "11 Rondônia   6.52\n",
       "12 Acre       1.42\n",
       "Name: 2024/Dez, dtype: float64"
      ]
     },
     "execution_count": 211,
     "metadata": {},
     "output_type": "execute_result"
    }
   ],
   "source": [
    "df_gastos_2024 = df_gastos_numericos_sem_total.iloc[:,-12:]\n",
    "df_gastos_2024dez = df_gastos_2024.iloc[:,-1]\n",
    "df_gastos_2024dez.head(2)"
   ]
  },
  {
   "cell_type": "markdown",
   "id": "6db1b4f5",
   "metadata": {},
   "source": [
    "### Dando join nas tabelas\n",
    "Vamos dar join nessas tabelas. Não conseguiremos fazer o join direto, antes temos que remover os números dos UF da tabela `df_gastos_2024dez`."
   ]
  },
  {
   "cell_type": "code",
   "execution_count": 212,
   "id": "6a6ddbcd",
   "metadata": {},
   "outputs": [
    {
     "data": {
      "text/plain": [
       "Unidade da Federação\n",
       "Rondônia    6.52\n",
       "Acre        1.42\n",
       "Amazonas   15.48\n",
       "Name: 2024/Dez, dtype: float64"
      ]
     },
     "execution_count": 212,
     "metadata": {},
     "output_type": "execute_result"
    }
   ],
   "source": [
    "df_gastos_2024dez.index = df_gastos_2024dez.index.str[3:]\n",
    "df_gastos_2024dez.head(3)"
   ]
  },
  {
   "cell_type": "code",
   "execution_count": 213,
   "id": "aa47ded4",
   "metadata": {},
   "outputs": [
    {
     "data": {
      "text/html": [
       "<div>\n",
       "<style scoped>\n",
       "    .dataframe tbody tr th:only-of-type {\n",
       "        vertical-align: middle;\n",
       "    }\n",
       "\n",
       "    .dataframe tbody tr th {\n",
       "        vertical-align: top;\n",
       "    }\n",
       "\n",
       "    .dataframe thead th {\n",
       "        text-align: right;\n",
       "    }\n",
       "</style>\n",
       "<table border=\"1\" class=\"dataframe\">\n",
       "  <thead>\n",
       "    <tr style=\"text-align: right;\">\n",
       "      <th></th>\n",
       "      <th>populacao_2024</th>\n",
       "    </tr>\n",
       "    <tr>\n",
       "      <th>UF</th>\n",
       "      <th></th>\n",
       "    </tr>\n",
       "  </thead>\n",
       "  <tbody>\n",
       "    <tr>\n",
       "      <th>São Paulo</th>\n",
       "      <td>45973194</td>\n",
       "    </tr>\n",
       "    <tr>\n",
       "      <th>Minas Gerais</th>\n",
       "      <td>21322691</td>\n",
       "    </tr>\n",
       "    <tr>\n",
       "      <th>Rio de Janeiro</th>\n",
       "      <td>17219679</td>\n",
       "    </tr>\n",
       "    <tr>\n",
       "      <th>Bahia</th>\n",
       "      <td>14850513</td>\n",
       "    </tr>\n",
       "    <tr>\n",
       "      <th>Paraná</th>\n",
       "      <td>11824665</td>\n",
       "    </tr>\n",
       "    <tr>\n",
       "      <th>Rio Grande do Sul</th>\n",
       "      <td>11229915</td>\n",
       "    </tr>\n",
       "    <tr>\n",
       "      <th>Pernambuco</th>\n",
       "      <td>9539029</td>\n",
       "    </tr>\n",
       "    <tr>\n",
       "      <th>Ceará</th>\n",
       "      <td>9233656</td>\n",
       "    </tr>\n",
       "    <tr>\n",
       "      <th>Pará</th>\n",
       "      <td>8664306</td>\n",
       "    </tr>\n",
       "    <tr>\n",
       "      <th>Santa Catarina</th>\n",
       "      <td>8058441</td>\n",
       "    </tr>\n",
       "    <tr>\n",
       "      <th>Goiás</th>\n",
       "      <td>7350483</td>\n",
       "    </tr>\n",
       "    <tr>\n",
       "      <th>Maranhão</th>\n",
       "      <td>7010960</td>\n",
       "    </tr>\n",
       "    <tr>\n",
       "      <th>Paraíba</th>\n",
       "      <td>4145040</td>\n",
       "    </tr>\n",
       "    <tr>\n",
       "      <th>Amazonas</th>\n",
       "      <td>4281209</td>\n",
       "    </tr>\n",
       "    <tr>\n",
       "      <th>Espírito Santo</th>\n",
       "      <td>4102129</td>\n",
       "    </tr>\n",
       "    <tr>\n",
       "      <th>Mato Grosso</th>\n",
       "      <td>3836399</td>\n",
       "    </tr>\n",
       "    <tr>\n",
       "      <th>Rio Grande do Norte</th>\n",
       "      <td>3446071</td>\n",
       "    </tr>\n",
       "    <tr>\n",
       "      <th>Piauí</th>\n",
       "      <td>3375646</td>\n",
       "    </tr>\n",
       "    <tr>\n",
       "      <th>Alagoas</th>\n",
       "      <td>3220104</td>\n",
       "    </tr>\n",
       "    <tr>\n",
       "      <th>Distrito Federal</th>\n",
       "      <td>2982818</td>\n",
       "    </tr>\n",
       "    <tr>\n",
       "      <th>Mato Grosso do Sul</th>\n",
       "      <td>2901895</td>\n",
       "    </tr>\n",
       "    <tr>\n",
       "      <th>Sergipe</th>\n",
       "      <td>2291077</td>\n",
       "    </tr>\n",
       "    <tr>\n",
       "      <th>Rondônia</th>\n",
       "      <td>1746227</td>\n",
       "    </tr>\n",
       "    <tr>\n",
       "      <th>Tocantins</th>\n",
       "      <td>1577342</td>\n",
       "    </tr>\n",
       "    <tr>\n",
       "      <th>Acre</th>\n",
       "      <td>880631</td>\n",
       "    </tr>\n",
       "    <tr>\n",
       "      <th>Amapá</th>\n",
       "      <td>802837</td>\n",
       "    </tr>\n",
       "    <tr>\n",
       "      <th>Roraima</th>\n",
       "      <td>716793</td>\n",
       "    </tr>\n",
       "  </tbody>\n",
       "</table>\n",
       "</div>"
      ],
      "text/plain": [
       "                      populacao_2024\n",
       "UF                                  \n",
       "São Paulo                   45973194\n",
       "Minas Gerais                21322691\n",
       "Rio de Janeiro              17219679\n",
       "Bahia                       14850513\n",
       "Paraná                      11824665\n",
       "Rio Grande do Sul           11229915\n",
       "Pernambuco                   9539029\n",
       "Ceará                        9233656\n",
       "Pará                         8664306\n",
       "Santa Catarina               8058441\n",
       "Goiás                        7350483\n",
       "Maranhão                     7010960\n",
       "Paraíba                      4145040\n",
       "Amazonas                     4281209\n",
       "Espírito Santo               4102129\n",
       "Mato Grosso                  3836399\n",
       "Rio Grande do Norte          3446071\n",
       "Piauí                        3375646\n",
       "Alagoas                      3220104\n",
       "Distrito Federal             2982818\n",
       "Mato Grosso do Sul           2901895\n",
       "Sergipe                      2291077\n",
       "Rondônia                     1746227\n",
       "Tocantins                    1577342\n",
       "Acre                          880631\n",
       "Amapá                         802837\n",
       "Roraima                       716793"
      ]
     },
     "execution_count": 213,
     "metadata": {},
     "output_type": "execute_result"
    }
   ],
   "source": [
    "df_populacao = df_populacao.set_index('UF')\n",
    "df_populacao"
   ]
  },
  {
   "cell_type": "code",
   "execution_count": 214,
   "id": "031761ed",
   "metadata": {},
   "outputs": [
    {
     "data": {
      "text/plain": [
       "Index(['São Paulo', 'Minas Gerais', 'Rio de Janeiro', 'Bahia', 'Paraná',\n",
       "       'Rio Grande do Sul', 'Pernambuco', 'Ceará', 'Pará', 'Santa Catarina',\n",
       "       'Goiás', 'Maranhão', 'Paraíba', 'Amazonas', 'Espírito Santo',\n",
       "       'Mato Grosso', 'Rio Grande do Norte', 'Piauí', 'Alagoas',\n",
       "       'Distrito Federal', 'Mato Grosso do Sul', 'Sergipe', 'Rondônia',\n",
       "       'Tocantins', 'Acre', 'Amapá', 'Roraima'],\n",
       "      dtype='object', name='UF')"
      ]
     },
     "execution_count": 214,
     "metadata": {},
     "output_type": "execute_result"
    }
   ],
   "source": [
    "df_populacao.index = df_populacao.index.str.strip()\n",
    "df_populacao.index"
   ]
  },
  {
   "cell_type": "code",
   "execution_count": 215,
   "id": "78c2c94b",
   "metadata": {},
   "outputs": [
    {
     "data": {
      "text/html": [
       "<div>\n",
       "<style scoped>\n",
       "    .dataframe tbody tr th:only-of-type {\n",
       "        vertical-align: middle;\n",
       "    }\n",
       "\n",
       "    .dataframe tbody tr th {\n",
       "        vertical-align: top;\n",
       "    }\n",
       "\n",
       "    .dataframe thead th {\n",
       "        text-align: right;\n",
       "    }\n",
       "</style>\n",
       "<table border=\"1\" class=\"dataframe\">\n",
       "  <thead>\n",
       "    <tr style=\"text-align: right;\">\n",
       "      <th></th>\n",
       "      <th>populacao_2024</th>\n",
       "      <th>2024/Dez</th>\n",
       "    </tr>\n",
       "    <tr>\n",
       "      <th>UF</th>\n",
       "      <th></th>\n",
       "      <th></th>\n",
       "    </tr>\n",
       "  </thead>\n",
       "  <tbody>\n",
       "    <tr>\n",
       "      <th>São Paulo</th>\n",
       "      <td>45973194</td>\n",
       "      <td>324.45</td>\n",
       "    </tr>\n",
       "    <tr>\n",
       "      <th>Minas Gerais</th>\n",
       "      <td>21322691</td>\n",
       "      <td>174.59</td>\n",
       "    </tr>\n",
       "    <tr>\n",
       "      <th>Rio de Janeiro</th>\n",
       "      <td>17219679</td>\n",
       "      <td>85.51</td>\n",
       "    </tr>\n",
       "  </tbody>\n",
       "</table>\n",
       "</div>"
      ],
      "text/plain": [
       "                populacao_2024  2024/Dez\n",
       "UF                                      \n",
       "São Paulo             45973194    324.45\n",
       "Minas Gerais          21322691    174.59\n",
       "Rio de Janeiro        17219679     85.51"
      ]
     },
     "execution_count": 215,
     "metadata": {},
     "output_type": "execute_result"
    }
   ],
   "source": [
    "df_populacao_gastos_2024dez = df_populacao.join(df_gastos_2024dez)\n",
    "df_populacao_gastos_2024dez.head(3)"
   ]
  },
  {
   "cell_type": "code",
   "execution_count": 216,
   "id": "2569f48b",
   "metadata": {},
   "outputs": [
    {
     "data": {
      "text/html": [
       "<div>\n",
       "<style scoped>\n",
       "    .dataframe tbody tr th:only-of-type {\n",
       "        vertical-align: middle;\n",
       "    }\n",
       "\n",
       "    .dataframe tbody tr th {\n",
       "        vertical-align: top;\n",
       "    }\n",
       "\n",
       "    .dataframe thead th {\n",
       "        text-align: right;\n",
       "    }\n",
       "</style>\n",
       "<table border=\"1\" class=\"dataframe\">\n",
       "  <thead>\n",
       "    <tr style=\"text-align: right;\">\n",
       "      <th></th>\n",
       "      <th>populacao</th>\n",
       "      <th>gastos</th>\n",
       "    </tr>\n",
       "    <tr>\n",
       "      <th>UF</th>\n",
       "      <th></th>\n",
       "      <th></th>\n",
       "    </tr>\n",
       "  </thead>\n",
       "  <tbody>\n",
       "    <tr>\n",
       "      <th>São Paulo</th>\n",
       "      <td>45973194</td>\n",
       "      <td>324.45</td>\n",
       "    </tr>\n",
       "    <tr>\n",
       "      <th>Minas Gerais</th>\n",
       "      <td>21322691</td>\n",
       "      <td>174.59</td>\n",
       "    </tr>\n",
       "    <tr>\n",
       "      <th>Rio de Janeiro</th>\n",
       "      <td>17219679</td>\n",
       "      <td>85.51</td>\n",
       "    </tr>\n",
       "  </tbody>\n",
       "</table>\n",
       "</div>"
      ],
      "text/plain": [
       "                populacao  gastos\n",
       "UF                               \n",
       "São Paulo        45973194  324.45\n",
       "Minas Gerais     21322691  174.59\n",
       "Rio de Janeiro   17219679   85.51"
      ]
     },
     "execution_count": 216,
     "metadata": {},
     "output_type": "execute_result"
    }
   ],
   "source": [
    "df_populacao_gastos_2024dez.columns = ['populacao', 'gastos']\n",
    "df_populacao_gastos_2024dez.head(3)"
   ]
  },
  {
   "cell_type": "markdown",
   "id": "fcea52e1",
   "metadata": {},
   "source": [
    "# 2.2 Proporcionalidade e Seaborn\n",
    "Vamos visualizar essa relação de gastos-população em um gráfico."
   ]
  },
  {
   "cell_type": "code",
   "execution_count": 217,
   "id": "557d5894",
   "metadata": {},
   "outputs": [],
   "source": [
    "df_populacao_gastos_2024dez['gastos_total'] = df_populacao_gastos_2024dez.iloc[:,-1:]*1_000_000 # voltando ao numero bruto"
   ]
  },
  {
   "cell_type": "code",
   "execution_count": 218,
   "id": "8dfbc94a",
   "metadata": {},
   "outputs": [
    {
     "data": {
      "text/html": [
       "<div>\n",
       "<style scoped>\n",
       "    .dataframe tbody tr th:only-of-type {\n",
       "        vertical-align: middle;\n",
       "    }\n",
       "\n",
       "    .dataframe tbody tr th {\n",
       "        vertical-align: top;\n",
       "    }\n",
       "\n",
       "    .dataframe thead th {\n",
       "        text-align: right;\n",
       "    }\n",
       "</style>\n",
       "<table border=\"1\" class=\"dataframe\">\n",
       "  <thead>\n",
       "    <tr style=\"text-align: right;\">\n",
       "      <th></th>\n",
       "      <th>populacao</th>\n",
       "      <th>gastos</th>\n",
       "      <th>gastos_total</th>\n",
       "      <th>gastos_por_habitante</th>\n",
       "    </tr>\n",
       "    <tr>\n",
       "      <th>UF</th>\n",
       "      <th></th>\n",
       "      <th></th>\n",
       "      <th></th>\n",
       "      <th></th>\n",
       "    </tr>\n",
       "  </thead>\n",
       "  <tbody>\n",
       "    <tr>\n",
       "      <th>São Paulo</th>\n",
       "      <td>45973194</td>\n",
       "      <td>324.45</td>\n",
       "      <td>324445311.14</td>\n",
       "      <td>7.06</td>\n",
       "    </tr>\n",
       "    <tr>\n",
       "      <th>Minas Gerais</th>\n",
       "      <td>21322691</td>\n",
       "      <td>174.59</td>\n",
       "      <td>174586144.37</td>\n",
       "      <td>8.19</td>\n",
       "    </tr>\n",
       "    <tr>\n",
       "      <th>Rio de Janeiro</th>\n",
       "      <td>17219679</td>\n",
       "      <td>85.51</td>\n",
       "      <td>85513544.90</td>\n",
       "      <td>4.97</td>\n",
       "    </tr>\n",
       "  </tbody>\n",
       "</table>\n",
       "</div>"
      ],
      "text/plain": [
       "                populacao  gastos  gastos_total  gastos_por_habitante\n",
       "UF                                                                   \n",
       "São Paulo        45973194  324.45  324445311.14                  7.06\n",
       "Minas Gerais     21322691  174.59  174586144.37                  8.19\n",
       "Rio de Janeiro   17219679   85.51   85513544.90                  4.97"
      ]
     },
     "execution_count": 218,
     "metadata": {},
     "output_type": "execute_result"
    }
   ],
   "source": [
    "df_populacao_gastos_2024dez['gastos_por_habitante'] = df_populacao_gastos_2024dez['gastos_total']/df_populacao_gastos_2024dez['populacao']\n",
    "df_populacao_gastos_2024dez.head(3)"
   ]
  },
  {
   "cell_type": "code",
   "execution_count": 219,
   "id": "2a0a2536",
   "metadata": {},
   "outputs": [
    {
     "data": {
      "text/plain": [
       "<Axes: xlabel='UF'>"
      ]
     },
     "execution_count": 219,
     "metadata": {},
     "output_type": "execute_result"
    },
    {
     "data": {
      "image/png": "[encoded data removed]",
      "text/plain": [
       "<Figure size 640x480 with 1 Axes>"
      ]
     },
     "metadata": {},
     "output_type": "display_data"
    }
   ],
   "source": [
    "df_populacao_gastos_2024dez['gastos_por_habitante'].plot(kind='bar')"
   ]
  },
  {
   "cell_type": "markdown",
   "id": "bcdfd9b8",
   "metadata": {},
   "source": [
    "## Desafios\n",
    "1. Aprimorar o gráfico (título, legenda, eixos, etc)\n",
    "2. Ordenar do maior para o menor gasto-por-habitante\n",
    "3. Colocar linha horizontal pela média (atenção de qual número você irá tirar a média)\n",
    "4. Ordernar por número de habitantes"
   ]
  },
  {
   "cell_type": "code",
   "execution_count": 220,
   "id": "ac5f4af9",
   "metadata": {},
   "outputs": [],
   "source": [
    "media_nacional = df_populacao_gastos_2024dez['gastos_total'].sum() / df_populacao_gastos_2024dez['populacao'].sum()"
   ]
  },
  {
   "cell_type": "code",
   "execution_count": 221,
   "id": "25df1dae",
   "metadata": {},
   "outputs": [],
   "source": [
    "df_populacao_gastos_2024dez = df_populacao_gastos_2024dez.sort_values('populacao', ascending=False);"
   ]
  },
  {
   "cell_type": "code",
   "execution_count": 222,
   "id": "3bcc0677",
   "metadata": {},
   "outputs": [],
   "source": [
    "greater_lower_colors = {\n",
    "    'greater' : 'orange',\n",
    "    'lower' : 'blue',\n",
    "    'equal' : 'cyan'\n",
    "}"
   ]
  },
  {
   "cell_type": "code",
   "execution_count": 223,
   "id": "94b19dc6",
   "metadata": {},
   "outputs": [],
   "source": [
    "def greater_lower(value, reference):\n",
    "    if value == reference:\n",
    "        return 'equal'\n",
    "    elif value < reference:\n",
    "        return 'lower'\n",
    "    else:\n",
    "        return 'greater'\n",
    "def convert_to_color(value):\n",
    "    return greater_lower_colors.get(value, 'gray')"
   ]
  },
  {
   "cell_type": "code",
   "execution_count": 224,
   "id": "dfbc0103",
   "metadata": {},
   "outputs": [],
   "source": [
    "col = df_populacao_gastos_2024dez['gastos_por_habitante'].sort_values(ascending=False).apply(greater_lower, args=(media_nacional,)).apply(convert_to_color)"
   ]
  },
  {
   "cell_type": "code",
   "execution_count": 225,
   "id": "360bf99d",
   "metadata": {},
   "outputs": [
    {
     "data": {
      "image/png": "[encoded data removed]",
      "text/plain": [
       "<Figure size 640x480 with 1 Axes>"
      ]
     },
     "metadata": {},
     "output_type": "display_data"
    }
   ],
   "source": [
    "axis = df_populacao_gastos_2024dez['gastos_por_habitante'].sort_values(ascending=False).plot(kind='bar', color=col)\n",
    "axis.set_xlabel('Estado')\n",
    "axis.set_yticks(np.arange(0,12,1))\n",
    "axis.axhline(media_nacional, c='red')\n",
    "axis.set_ylabel('R$ / Habitante')\n",
    "axis.set_axisbelow(True)\n",
    "axis.grid(axis='y')"
   ]
  },
  {
   "cell_type": "markdown",
   "id": "09490af2",
   "metadata": {},
   "source": [
    "## Introdução ao Seaborn"
   ]
  },
  {
   "cell_type": "code",
   "execution_count": 226,
   "id": "25be5151",
   "metadata": {},
   "outputs": [
    {
     "data": {
      "text/plain": [
       "<Axes: xlabel='populacao', ylabel='gastos_por_habitante'>"
      ]
     },
     "execution_count": 226,
     "metadata": {},
     "output_type": "execute_result"
    },
    {
     "data": {
      "image/png": "[encoded data removed]",
      "text/plain": [
       "<Figure size 700x700 with 1 Axes>"
      ]
     },
     "metadata": {},
     "output_type": "display_data"
    }
   ],
   "source": [
    "plt.figure(figsize=(7,7))\n",
    "sns.scatterplot(df_populacao_gastos_2024dez, x='populacao', y='gastos_por_habitante')\n"
   ]
  },
  {
   "cell_type": "markdown",
   "id": "a5043c65",
   "metadata": {},
   "source": [
    "## Desafios\n",
    "- Aprimorar o gráfico\n",
    "- Executar esse mesmo gráfico para o PENÚLTIMO mês\n",
    "- Comparar os dois meses no mesmo gráfico, usando cores diferentes"
   ]
  },
  {
   "cell_type": "markdown",
   "id": "db878b86",
   "metadata": {},
   "source": [
    "## Segunda metade da aula"
   ]
  },
  {
   "cell_type": "code",
   "execution_count": 227,
   "id": "2a4f7d56",
   "metadata": {},
   "outputs": [],
   "source": [
    "df_gastos_2024 *= 1_000_000 # voltando ao numero bruto"
   ]
  },
  {
   "cell_type": "code",
   "execution_count": 228,
   "id": "df36a765",
   "metadata": {},
   "outputs": [],
   "source": [
    "def insert_gastos(df_population : pd.DataFrame, df_to_join : pd.DataFrame, month : int):\n",
    "    # gastos.columns = gastos.columns.map(lambda x: str(x) + '_gastos')\n",
    "    gastos = df_to_join[df_to_join.columns[month-1]].copy(True)\n",
    "    gastos.name = 'gastos_' + gastos.name\n",
    "    df_new = df_population.join(gastos)\n",
    "    df_new[f'gastos_por_habitante_2024/{month:00d}'] = gastos / df_new['populacao_2024']\n",
    "    return df_new"
   ]
  },
  {
   "cell_type": "code",
   "execution_count": 229,
   "id": "f34f1a58",
   "metadata": {},
   "outputs": [],
   "source": [
    "df_gastos_2024.index = df_gastos_2024.index.str[3:]"
   ]
  },
  {
   "cell_type": "code",
   "execution_count": 240,
   "id": "a012d5f2",
   "metadata": {},
   "outputs": [
    {
     "data": {
      "text/html": [
       "<div>\n",
       "<style scoped>\n",
       "    .dataframe tbody tr th:only-of-type {\n",
       "        vertical-align: middle;\n",
       "    }\n",
       "\n",
       "    .dataframe tbody tr th {\n",
       "        vertical-align: top;\n",
       "    }\n",
       "\n",
       "    .dataframe thead th {\n",
       "        text-align: right;\n",
       "    }\n",
       "</style>\n",
       "<table border=\"1\" class=\"dataframe\">\n",
       "  <thead>\n",
       "    <tr style=\"text-align: right;\">\n",
       "      <th></th>\n",
       "      <th>populacao_2024</th>\n",
       "      <th>gastos_2024/Jan</th>\n",
       "      <th>gastos_por_habitante_2024/1</th>\n",
       "      <th>gastos_2024/Fev</th>\n",
       "      <th>gastos_por_habitante_2024/2</th>\n",
       "      <th>gastos_2024/Mar</th>\n",
       "      <th>gastos_por_habitante_2024/3</th>\n",
       "      <th>gastos_2024/Abr</th>\n",
       "      <th>gastos_por_habitante_2024/4</th>\n",
       "      <th>gastos_2024/Mai</th>\n",
       "      <th>...</th>\n",
       "      <th>gastos_2024/Ago</th>\n",
       "      <th>gastos_por_habitante_2024/8</th>\n",
       "      <th>gastos_2024/Set</th>\n",
       "      <th>gastos_por_habitante_2024/9</th>\n",
       "      <th>gastos_2024/Out</th>\n",
       "      <th>gastos_por_habitante_2024/10</th>\n",
       "      <th>gastos_2024/Nov</th>\n",
       "      <th>gastos_por_habitante_2024/11</th>\n",
       "      <th>gastos_2024/Dez</th>\n",
       "      <th>gastos_por_habitante_2024/12</th>\n",
       "    </tr>\n",
       "    <tr>\n",
       "      <th>UF</th>\n",
       "      <th></th>\n",
       "      <th></th>\n",
       "      <th></th>\n",
       "      <th></th>\n",
       "      <th></th>\n",
       "      <th></th>\n",
       "      <th></th>\n",
       "      <th></th>\n",
       "      <th></th>\n",
       "      <th></th>\n",
       "      <th></th>\n",
       "      <th></th>\n",
       "      <th></th>\n",
       "      <th></th>\n",
       "      <th></th>\n",
       "      <th></th>\n",
       "      <th></th>\n",
       "      <th></th>\n",
       "      <th></th>\n",
       "      <th></th>\n",
       "      <th></th>\n",
       "    </tr>\n",
       "  </thead>\n",
       "  <tbody>\n",
       "    <tr>\n",
       "      <th>São Paulo</th>\n",
       "      <td>45973194</td>\n",
       "      <td>399217836.83</td>\n",
       "      <td>8.68</td>\n",
       "      <td>383993834.78</td>\n",
       "      <td>8.35</td>\n",
       "      <td>413529009.01</td>\n",
       "      <td>9.00</td>\n",
       "      <td>433371023.39</td>\n",
       "      <td>9.43</td>\n",
       "      <td>436069689.24</td>\n",
       "      <td>...</td>\n",
       "      <td>442651475.53</td>\n",
       "      <td>9.63</td>\n",
       "      <td>433154845.88</td>\n",
       "      <td>9.42</td>\n",
       "      <td>447928600.94</td>\n",
       "      <td>9.74</td>\n",
       "      <td>387444440.51</td>\n",
       "      <td>8.43</td>\n",
       "      <td>324445311.14</td>\n",
       "      <td>7.06</td>\n",
       "    </tr>\n",
       "    <tr>\n",
       "      <th>Minas Gerais</th>\n",
       "      <td>21322691</td>\n",
       "      <td>222875299.37</td>\n",
       "      <td>10.45</td>\n",
       "      <td>211156702.85</td>\n",
       "      <td>9.90</td>\n",
       "      <td>233145944.94</td>\n",
       "      <td>10.93</td>\n",
       "      <td>243167065.29</td>\n",
       "      <td>11.40</td>\n",
       "      <td>244960064.49</td>\n",
       "      <td>...</td>\n",
       "      <td>252154347.59</td>\n",
       "      <td>11.83</td>\n",
       "      <td>253554464.99</td>\n",
       "      <td>11.89</td>\n",
       "      <td>255511700.85</td>\n",
       "      <td>11.98</td>\n",
       "      <td>216701546.87</td>\n",
       "      <td>10.16</td>\n",
       "      <td>174586144.37</td>\n",
       "      <td>8.19</td>\n",
       "    </tr>\n",
       "    <tr>\n",
       "      <th>Rio de Janeiro</th>\n",
       "      <td>17219679</td>\n",
       "      <td>126002120.32</td>\n",
       "      <td>7.32</td>\n",
       "      <td>115174946.81</td>\n",
       "      <td>6.69</td>\n",
       "      <td>127679350.65</td>\n",
       "      <td>7.41</td>\n",
       "      <td>132316321.70</td>\n",
       "      <td>7.68</td>\n",
       "      <td>141062368.77</td>\n",
       "      <td>...</td>\n",
       "      <td>145672612.54</td>\n",
       "      <td>8.46</td>\n",
       "      <td>138174217.97</td>\n",
       "      <td>8.02</td>\n",
       "      <td>142773517.13</td>\n",
       "      <td>8.29</td>\n",
       "      <td>109522394.10</td>\n",
       "      <td>6.36</td>\n",
       "      <td>85513544.90</td>\n",
       "      <td>4.97</td>\n",
       "    </tr>\n",
       "  </tbody>\n",
       "</table>\n",
       "<p>3 rows × 25 columns</p>\n",
       "</div>"
      ],
      "text/plain": [
       "                populacao_2024  gastos_2024/Jan  gastos_por_habitante_2024/1  \\\n",
       "UF                                                                             \n",
       "São Paulo             45973194     399217836.83                         8.68   \n",
       "Minas Gerais          21322691     222875299.37                        10.45   \n",
       "Rio de Janeiro        17219679     126002120.32                         7.32   \n",
       "\n",
       "                gastos_2024/Fev  gastos_por_habitante_2024/2  gastos_2024/Mar  \\\n",
       "UF                                                                              \n",
       "São Paulo          383993834.78                         8.35     413529009.01   \n",
       "Minas Gerais       211156702.85                         9.90     233145944.94   \n",
       "Rio de Janeiro     115174946.81                         6.69     127679350.65   \n",
       "\n",
       "                gastos_por_habitante_2024/3  gastos_2024/Abr  \\\n",
       "UF                                                             \n",
       "São Paulo                              9.00     433371023.39   \n",
       "Minas Gerais                          10.93     243167065.29   \n",
       "Rio de Janeiro                         7.41     132316321.70   \n",
       "\n",
       "                gastos_por_habitante_2024/4  gastos_2024/Mai  ...  \\\n",
       "UF                                                            ...   \n",
       "São Paulo                              9.43     436069689.24  ...   \n",
       "Minas Gerais                          11.40     244960064.49  ...   \n",
       "Rio de Janeiro                         7.68     141062368.77  ...   \n",
       "\n",
       "                gastos_2024/Ago  gastos_por_habitante_2024/8  gastos_2024/Set  \\\n",
       "UF                                                                              \n",
       "São Paulo          442651475.53                         9.63     433154845.88   \n",
       "Minas Gerais       252154347.59                        11.83     253554464.99   \n",
       "Rio de Janeiro     145672612.54                         8.46     138174217.97   \n",
       "\n",
       "                gastos_por_habitante_2024/9  gastos_2024/Out  \\\n",
       "UF                                                             \n",
       "São Paulo                              9.42     447928600.94   \n",
       "Minas Gerais                          11.89     255511700.85   \n",
       "Rio de Janeiro                         8.02     142773517.13   \n",
       "\n",
       "                gastos_por_habitante_2024/10  gastos_2024/Nov  \\\n",
       "UF                                                              \n",
       "São Paulo                               9.74     387444440.51   \n",
       "Minas Gerais                           11.98     216701546.87   \n",
       "Rio de Janeiro                          8.29     109522394.10   \n",
       "\n",
       "                gastos_por_habitante_2024/11  gastos_2024/Dez  \\\n",
       "UF                                                              \n",
       "São Paulo                               8.43     324445311.14   \n",
       "Minas Gerais                           10.16     174586144.37   \n",
       "Rio de Janeiro                          6.36      85513544.90   \n",
       "\n",
       "                gastos_por_habitante_2024/12  \n",
       "UF                                            \n",
       "São Paulo                               7.06  \n",
       "Minas Gerais                            8.19  \n",
       "Rio de Janeiro                          4.97  \n",
       "\n",
       "[3 rows x 25 columns]"
      ]
     },
     "execution_count": 240,
     "metadata": {},
     "output_type": "execute_result"
    }
   ],
   "source": [
    "df_gastos_habitantes_2024 = df_populacao\n",
    "for i in range(1,13):\n",
    "    df_gastos_habitantes_2024 = insert_gastos(df_gastos_habitantes_2024, df_gastos_2024, i)\n",
    "df_gastos_habitantes_2024.head(3)"
   ]
  },
  {
   "cell_type": "code",
   "execution_count": 242,
   "id": "e4f2ee4f",
   "metadata": {},
   "outputs": [
    {
     "data": {
      "text/plain": [
       "<Axes: xlabel='populacao_2024', ylabel='gastos_2024/Jan'>"
      ]
     },
     "execution_count": 242,
     "metadata": {},
     "output_type": "execute_result"
    },
    {
     "data": {
      "image/png": "[encoded data removed]",
      "text/plain": [
       "<Figure size 640x480 with 1 Axes>"
      ]
     },
     "metadata": {},
     "output_type": "display_data"
    }
   ],
   "source": [
    "sns.scatterplot(data = df_gastos_habitantes_2024, x = 'populacao_2024', y = 'gastos_2024/Jan')\n",
    "sns.scatterplot(data = df_gastos_habitantes_2024, x = 'populacao_2024', y = 'gastos_2024/Jun')\n",
    "sns.scatterplot(data = df_gastos_habitantes_2024, x = 'populacao_2024', y = 'gastos_2024/Ago')"
   ]
  },
  {
   "cell_type": "markdown",
   "id": "89ebaf88",
   "metadata": {},
   "source": [
    "## Desafios\n",
    "- Legenda\n",
    "- Diminuir marcações\n",
    "- Levante alguma hipótese ou questão baseada no gráfico\n",
    "- Comparar os 12 meses com os 12 anteriores. (Somar os 12 meses em uma coluna só)"
   ]
  }
 ],
 "metadata": {
  "kernelspec": {
   "display_name": "venv",
   "language": "python",
   "name": "python3"
  },
  "language_info": {
   "codemirror_mode": {
    "name": "ipython",
    "version": 3
   },
   "file_extension": ".py",
   "mimetype": "text/x-python",
   "name": "python",
   "nbconvert_exporter": "python",
   "pygments_lexer": "ipython3",
   "version": "3.12.7"
  }
 },
 "nbformat": 4,
 "nbformat_minor": 5
}
