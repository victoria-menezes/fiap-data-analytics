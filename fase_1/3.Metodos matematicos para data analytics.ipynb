{
 "cells": [
  {
   "cell_type": "markdown",
   "id": "88ceb592",
   "metadata": {},
   "source": [
    "# 1. Estatística e Algelin em Python I\n",
    "Queremos RESOLVER SISTEMAS DE EQUAÇÕES LINEARES embutidas em problemas de negócios.\n",
    "\n",
    "## Equação diofantina: x + y = 10 \n",
    "Sistema POSSÍVEL e INDETERMINADO\n",
    "Mais incógnitas do que equações\n",
    "\n",
    "## Sistema de equações lineares\n",
    "1x + y = 10\n",
    "2x - y = 11\n"
   ]
  },
  {
   "cell_type": "markdown",
   "id": "b8b44c10",
   "metadata": {},
   "source": [
    "# 2. Estatística e Algelin em Python II"
   ]
  },
  {
   "cell_type": "markdown",
   "id": "8db492b7",
   "metadata": {},
   "source": [
    "Descrevendo fórmulas:"
   ]
  },
  {
   "cell_type": "markdown",
   "id": "f9133c14",
   "metadata": {},
   "source": [
    "$$ \\alpha + \\beta = 10$$"
   ]
  },
  {
   "cell_type": "markdown",
   "id": "e203f29d",
   "metadata": {},
   "source": [
    "## Bibliotecas"
   ]
  },
  {
   "cell_type": "code",
   "execution_count": 32,
   "id": "86956321",
   "metadata": {},
   "outputs": [],
   "source": [
    "import numpy as np\n",
    "import scipy as sc\n",
    "import sympy as sy\n",
    "import pandas as pd\n",
    "import matplotlib.pyplot as plt\n",
    "import matplotlib.ticker as ticker"
   ]
  },
  {
   "cell_type": "markdown",
   "id": "32f93753",
   "metadata": {},
   "source": [
    "## Escalar\n",
    "É um número.\n",
    "\n",
    "Tensor de ordem 0 (0 dimensões)"
   ]
  },
  {
   "cell_type": "code",
   "execution_count": 3,
   "id": "fbd44293",
   "metadata": {},
   "outputs": [],
   "source": [
    "x = 1\n"
   ]
  },
  {
   "cell_type": "markdown",
   "id": "66dbcb42",
   "metadata": {},
   "source": [
    "## Vetor & Matriz\n",
    "Exemplo: plano cartesiano, múltiplas coordenadas.\n",
    "\n",
    "Tensor de ordem 1"
   ]
  },
  {
   "cell_type": "code",
   "execution_count": 4,
   "id": "0e53629f",
   "metadata": {},
   "outputs": [
    {
     "name": "stdout",
     "output_type": "stream",
     "text": [
      "[1 2 3] Vetor LINHA, um vetor com 3 componentes. Vetor de 3 elementos escalares.\n",
      "\n",
      "[[1]\n",
      " [2]\n",
      " [3]] União de vários vetores, MATRIZ COLUNA com três elementos vetoriais com elementos escalares.\n",
      "\n",
      "[[1 2 3]\n",
      " [1 2 3]\n",
      " [1 2 3]] MATRIZ QUADRADA, matriz tradicional\n"
     ]
    }
   ],
   "source": [
    "x2 = np.array([1, 2, 3])\n",
    "x3 = np.array([[1], [2], [3]])\n",
    "x4 = np.array([[1, 2, 3],[1, 2, 3],[1, 2, 3]])\n",
    "print(x2, 'Vetor LINHA, um vetor com 3 componentes. Vetor de 3 elementos escalares.')\n",
    "print()\n",
    "print(x3, 'União de vários vetores, MATRIZ COLUNA com três elementos vetoriais com elementos escalares.')\n",
    "print()\n",
    "print(x4, 'MATRIZ QUADRADA, matriz tradicional')"
   ]
  },
  {
   "cell_type": "markdown",
   "id": "d086ad6c",
   "metadata": {},
   "source": [
    "# 3. Estatística e Algelin em Python III"
   ]
  },
  {
   "cell_type": "code",
   "execution_count": 5,
   "id": "6752532c",
   "metadata": {},
   "outputs": [
    {
     "data": {
      "text/html": [
       "<div>\n",
       "<style scoped>\n",
       "    .dataframe tbody tr th:only-of-type {\n",
       "        vertical-align: middle;\n",
       "    }\n",
       "\n",
       "    .dataframe tbody tr th {\n",
       "        vertical-align: top;\n",
       "    }\n",
       "\n",
       "    .dataframe thead th {\n",
       "        text-align: right;\n",
       "    }\n",
       "</style>\n",
       "<table border=\"1\" class=\"dataframe\">\n",
       "  <thead>\n",
       "    <tr style=\"text-align: right;\">\n",
       "      <th></th>\n",
       "      <th>coluna 1</th>\n",
       "    </tr>\n",
       "  </thead>\n",
       "  <tbody>\n",
       "    <tr>\n",
       "      <th>0</th>\n",
       "      <td>1</td>\n",
       "    </tr>\n",
       "    <tr>\n",
       "      <th>1</th>\n",
       "      <td>2</td>\n",
       "    </tr>\n",
       "    <tr>\n",
       "      <th>2</th>\n",
       "      <td>3</td>\n",
       "    </tr>\n",
       "    <tr>\n",
       "      <th>3</th>\n",
       "      <td>4</td>\n",
       "    </tr>\n",
       "    <tr>\n",
       "      <th>4</th>\n",
       "      <td>5</td>\n",
       "    </tr>\n",
       "  </tbody>\n",
       "</table>\n",
       "</div>"
      ],
      "text/plain": [
       "   coluna 1\n",
       "0         1\n",
       "1         2\n",
       "2         3\n",
       "3         4\n",
       "4         5"
      ]
     },
     "execution_count": 5,
     "metadata": {},
     "output_type": "execute_result"
    }
   ],
   "source": [
    "lista = np.array([1,2,3,4,5])\n",
    "df = pd.DataFrame({'coluna 1':lista})\n",
    "df"
   ]
  },
  {
   "cell_type": "markdown",
   "id": "17179140",
   "metadata": {},
   "source": [
    "# 4. Estatística e Algelin em Python IV\n",
    "Escalar: tensor dimensão 0, um 'ponto'\n",
    "\n",
    "Vetor: tensor dimensão 1\n",
    "\n",
    "Matriz: tensor dimensão 2\n"
   ]
  },
  {
   "cell_type": "code",
   "execution_count": 6,
   "id": "27146efb",
   "metadata": {},
   "outputs": [
    {
     "name": "stdout",
     "output_type": "stream",
     "text": [
      "[1 2 3] \n",
      "+\n",
      " [[1]\n",
      " [2]\n",
      " [3]] \n",
      "=\n",
      " [[2 3 4]\n",
      " [3 4 5]\n",
      " [4 5 6]]\n",
      "Soma de COMBINAÇÃO LINEAR\n"
     ]
    }
   ],
   "source": [
    "print(x2,'\\n+\\n',x3,'\\n=\\n',x2+x3)\n",
    "print('Soma de COMBINAÇÃO LINEAR')"
   ]
  },
  {
   "cell_type": "markdown",
   "id": "46b7f1db",
   "metadata": {},
   "source": [
    "1 + 1, 2 + 1, 3 + 1\n",
    "\n",
    "1 + 2, 2 + 2, 3 + 2\n",
    "\n",
    "1 + 3, 3 + 2, 3 + 3"
   ]
  },
  {
   "cell_type": "code",
   "execution_count": 7,
   "id": "31ab9599",
   "metadata": {},
   "outputs": [
    {
     "name": "stdout",
     "output_type": "stream",
     "text": [
      "[[1]\n",
      " [2]\n",
      " [3]] \n",
      "+\n",
      " [[1 2 3]\n",
      " [1 2 3]\n",
      " [1 2 3]] \n",
      "=\n",
      " [[2 3 4]\n",
      " [3 4 5]\n",
      " [4 5 6]]\n"
     ]
    }
   ],
   "source": [
    "print(x3,'\\n+\\n',x4,'\\n=\\n',x3+x4)"
   ]
  },
  {
   "cell_type": "markdown",
   "id": "4ab8e7e6",
   "metadata": {},
   "source": [
    "Em casos de dimensões diferentes, a COMBINAÇÃO LINEAR domina"
   ]
  },
  {
   "cell_type": "code",
   "execution_count": 8,
   "id": "b831c6e7",
   "metadata": {},
   "outputs": [
    {
     "data": {
      "text/plain": [
       "array([[1],\n",
       "       [2]])"
      ]
     },
     "execution_count": 8,
     "metadata": {},
     "output_type": "execute_result"
    }
   ],
   "source": [
    "x5 = np.array([[1], [2]])\n",
    "x5"
   ]
  },
  {
   "cell_type": "code",
   "execution_count": 9,
   "id": "c5f8d974",
   "metadata": {},
   "outputs": [
    {
     "name": "stdout",
     "output_type": "stream",
     "text": [
      "[[1 2 3]\n",
      " [1 2 3]\n",
      " [1 2 3]] \n",
      "+\n",
      " [[1]\n",
      " [2]] \n",
      "=\n",
      " ERRO\n"
     ]
    }
   ],
   "source": [
    "print(x4,'\\n+\\n',x5,'\\n=\\n ERRO')"
   ]
  },
  {
   "cell_type": "markdown",
   "id": "42795887",
   "metadata": {},
   "source": [
    "Elementos precisam ter a mesma quantidade de LINHAS ou COLUNAS, com a outra dimensão sendo 1.\n",
    "OU, podem ter o formato igual."
   ]
  },
  {
   "cell_type": "markdown",
   "id": "fd24371e",
   "metadata": {},
   "source": [
    "# 5. Estatística e Algelin em Python V\n",
    "## Multiplicação\n",
    "REGRA: com arr1 com dimensões(x, y) arr2(z, w), podemos multiplicar SE E SOMENTE SE y = z\n",
    "\n",
    "Para A.B = C,\n",
    "\n",
    "O número de COLUNAS de A deve ser IGUAL ao NÚMERO DE COLUNAS de B"
   ]
  },
  {
   "cell_type": "code",
   "execution_count": 10,
   "id": "0b3f5cec",
   "metadata": {},
   "outputs": [
    {
     "name": "stdout",
     "output_type": "stream",
     "text": [
      "[[1 2 3]\n",
      " [1 2 3]\n",
      " [1 2 3]] \n",
      " [[1]\n",
      " [2]\n",
      " [3]]\n"
     ]
    }
   ],
   "source": [
    "print(x4,'\\n', x3)"
   ]
  },
  {
   "cell_type": "code",
   "execution_count": 11,
   "id": "41f65e9a",
   "metadata": {},
   "outputs": [
    {
     "data": {
      "text/plain": [
       "array([[14],\n",
       "       [14],\n",
       "       [14]])"
      ]
     },
     "execution_count": 11,
     "metadata": {},
     "output_type": "execute_result"
    }
   ],
   "source": [
    "np.dot(x4, x3) # ORDEM IMPORTA, x3, x4 não funcionaria\n",
    "# A.B != B.A"
   ]
  },
  {
   "cell_type": "code",
   "execution_count": 12,
   "id": "cfcc9d54",
   "metadata": {},
   "outputs": [
    {
     "data": {
      "text/plain": [
       "array([[14],\n",
       "       [14],\n",
       "       [14]])"
      ]
     },
     "execution_count": 12,
     "metadata": {},
     "output_type": "execute_result"
    }
   ],
   "source": [
    "# or:\n",
    "x4@x3"
   ]
  },
  {
   "cell_type": "markdown",
   "id": "bd51f5f0",
   "metadata": {},
   "source": [
    "## Divisão\n",
    "## A.X = Y ---> Equação fundamental da álgebra linear\n",
    "\n",
    "Como achamos X?"
   ]
  },
  {
   "cell_type": "markdown",
   "id": "adb0566b",
   "metadata": {},
   "source": [
    "# 6. Estatística e Algelin em Python VI\n",
    "## Elementos neutros\n",
    "### Escalares\n",
    "Para os escalares, o 0 na soma e subtração é um **elemento neutro**\n",
    "\n",
    "Para multiplicação e divisão, o 1 é o **elemento neutro**\n",
    "### Vetores / Matrizes"
   ]
  },
  {
   "cell_type": "code",
   "execution_count": 13,
   "id": "3e2e2f47",
   "metadata": {},
   "outputs": [
    {
     "data": {
      "text/plain": [
       "array([[0., 0., 0.],\n",
       "       [0., 0., 0.],\n",
       "       [0., 0., 0.]])"
      ]
     },
     "execution_count": 13,
     "metadata": {},
     "output_type": "execute_result"
    }
   ],
   "source": [
    "zeros = np.zeros((3,3))\n",
    "zeros"
   ]
  },
  {
   "cell_type": "code",
   "execution_count": 14,
   "id": "170fb1fd",
   "metadata": {},
   "outputs": [
    {
     "data": {
      "text/plain": [
       "array([[1., 1.],\n",
       "       [1., 1.]])"
      ]
     },
     "execution_count": 14,
     "metadata": {},
     "output_type": "execute_result"
    }
   ],
   "source": [
    "ones = np.ones((2,2))\n",
    "ones"
   ]
  },
  {
   "cell_type": "markdown",
   "id": "8595769e",
   "metadata": {},
   "source": [
    "```math \n",
    "A =\\begin{bmatrix} \n",
    "    a_{00} & a_{01} & a_{02} \\\\ \n",
    "    a_{10} & a_{11} & a_{12} \\\\ \n",
    "    a_{20} & a_{21} & a_{22} \n",
    "  \\end{bmatrix}\n",
    "```"
   ]
  },
  {
   "cell_type": "markdown",
   "id": "3b8c3d1f",
   "metadata": {},
   "source": [
    "**Matriz IDENTIDADE:** 1 onde COLUNA = LINHA, e 0 onde COLUNA != LINHA"
   ]
  },
  {
   "cell_type": "markdown",
   "id": "b29a5143",
   "metadata": {},
   "source": [
    "```math \n",
    "I =\\begin{bmatrix} \n",
    "    {1} & {0} & {0} \\\\ \n",
    "    {0} & {1} & {0} \\\\ \n",
    "    {0} & {0} & {1} \\\\ \n",
    "  \\end{bmatrix}\n",
    "```"
   ]
  },
  {
   "cell_type": "code",
   "execution_count": 15,
   "id": "b8994d50",
   "metadata": {},
   "outputs": [
    {
     "data": {
      "text/plain": [
       "array([[1., 0., 0.],\n",
       "       [0., 1., 0.],\n",
       "       [0., 0., 1.]])"
      ]
     },
     "execution_count": 15,
     "metadata": {},
     "output_type": "execute_result"
    }
   ],
   "source": [
    "id = np.eye(3)\n",
    "id"
   ]
  },
  {
   "cell_type": "code",
   "execution_count": 16,
   "id": "4d87a0e4",
   "metadata": {},
   "outputs": [
    {
     "data": {
      "text/plain": [
       "array([[1., 0., 0.],\n",
       "       [0., 2., 0.],\n",
       "       [0., 0., 3.]])"
      ]
     },
     "execution_count": 16,
     "metadata": {},
     "output_type": "execute_result"
    }
   ],
   "source": [
    "x4*id"
   ]
  },
  {
   "cell_type": "code",
   "execution_count": 17,
   "id": "f2d1e117",
   "metadata": {},
   "outputs": [
    {
     "data": {
      "text/plain": [
       "array([[1, 2, 3],\n",
       "       [1, 2, 3],\n",
       "       [1, 2, 3]])"
      ]
     },
     "execution_count": 17,
     "metadata": {},
     "output_type": "execute_result"
    }
   ],
   "source": [
    "x4*1"
   ]
  },
  {
   "cell_type": "markdown",
   "id": "abd31426",
   "metadata": {},
   "source": [
    "# 7. Estatística e Algelin em Python VII"
   ]
  },
  {
   "cell_type": "markdown",
   "id": "385b3f75",
   "metadata": {},
   "source": [
    "## Números inversos"
   ]
  },
  {
   "cell_type": "markdown",
   "id": "d9ecb25d",
   "metadata": {},
   "source": [
    "1 | inverso: 1/1, 1*1/1 = 1\n",
    "\n",
    "2 | inverso: 1/2  2*1/2 = 1"
   ]
  },
  {
   "cell_type": "markdown",
   "id": "63e01e41",
   "metadata": {},
   "source": [
    "$$x . x^{-1} = 1$$"
   ]
  },
  {
   "cell_type": "markdown",
   "id": "4f9a23e5",
   "metadata": {},
   "source": [
    "## Inverso de uma matriz"
   ]
  },
  {
   "cell_type": "markdown",
   "id": "3e305705",
   "metadata": {},
   "source": [
    "$$A.A^{-1} = I$$"
   ]
  },
  {
   "cell_type": "markdown",
   "id": "58ac8d15",
   "metadata": {},
   "source": [
    "## Equação fundamental da álgebra\n",
    "Sendo A uma matriz quadrada:\n",
    "$$A.X = Y$$\n",
    "$$A.A^{-1}.X = A^{-1}.Y$$\n",
    "$$I.X = A^{-1}.Y$$\n",
    "$$X = A^{-1}.Y$$"
   ]
  },
  {
   "cell_type": "markdown",
   "id": "d54ffbd4",
   "metadata": {},
   "source": [
    "# 8. Estatística e Algelin em Python VIII\n",
    "## Invertendo uma matriz não-quadrada (matriz pseudo-inversa)\n",
    "T = matriz transposta\n",
    "$$X=(A^{T}A)^{-1}A^{T}Y$$"
   ]
  },
  {
   "cell_type": "code",
   "execution_count": 18,
   "id": "4338f970",
   "metadata": {},
   "outputs": [],
   "source": [
    "x1, y1 = -1,0\n",
    "x2, y2 = 0,1\n",
    "x3, y3 = 1,2\n",
    "x4,y4 = 2,1\n",
    "\n",
    "x = [x1,x2,x3,x4]\n",
    "y = [y1,y2,y3,y4]"
   ]
  },
  {
   "cell_type": "code",
   "execution_count": 19,
   "id": "cf7d256e",
   "metadata": {},
   "outputs": [
    {
     "data": {
      "text/plain": [
       "Text(0.5, 1.0, 'Interpolação da reta sobre todos os pontos')"
      ]
     },
     "execution_count": 19,
     "metadata": {},
     "output_type": "execute_result"
    },
    {
     "data": {
      "image/png": "[encoded data removed]",
      "text/plain": [
       "<Figure size 1000x500 with 1 Axes>"
      ]
     },
     "metadata": {},
     "output_type": "display_data"
    }
   ],
   "source": [
    "plt.figure(figsize=(10,5))\n",
    "\n",
    "plt.scatter(x1, y1, color='green', label='Pares ordenados (x, y)')\n",
    "plt.scatter(x2, y2, color='green')\n",
    "plt.scatter(x3, y3, color='green')\n",
    "plt.scatter(x4, y4, color='green')\n",
    "\n",
    "plt.plot(x, y, label='Gráfico que liga os pontos')\n",
    "\n",
    "plt.grid(True)\n",
    "plt.box(False)\n",
    "plt.legend()\n",
    "plt.title('Interpolação da reta sobre todos os pontos')"
   ]
  },
  {
   "cell_type": "markdown",
   "id": "5d5353cc",
   "metadata": {},
   "source": [
    "Queremos **encontrar a função de uma reta** que representa esses pontos...\n",
    "## Regressão linear"
   ]
  },
  {
   "cell_type": "markdown",
   "id": "3c56ce21",
   "metadata": {},
   "source": [
    "$$ y = mx + n $$\n",
    "### Achando os coeficientes"
   ]
  },
  {
   "cell_type": "markdown",
   "id": "fcb7de9f",
   "metadata": {},
   "source": [
    "$$y = A.x$$\n",
    "x representa o vetor de coeficientes que você está tentando encontrar. No caso onde a equação da reta é y=mx+n, os coeficientes são m e n.\n",
    "```math \n",
    "y =\\begin{bmatrix} \n",
    "    {y_{1}} \\\\ {y_{2}} \\\\ {y_{3}} \\\\ ...\n",
    "  \\end{bmatrix}\n",
    "```\n",
    "```math \n",
    "A =\\begin{bmatrix} \n",
    "    {m_{1}} & {n_{1}} \\\\\n",
    "    {m_{2}} & {n_{2}} \\\\\n",
    "    {m_{3}} & {n_{3}} \\\\\n",
    "    {m_{4}} & {n_{4}} \\\\\n",
    "    ...\n",
    "  \\end{bmatrix}\n",
    "```\n",
    "```math \n",
    "x =\\begin{bmatrix} \n",
    "    {m} \\\\\n",
    "    {n} \n",
    "  \\end{bmatrix}\n",
    "```"
   ]
  },
  {
   "cell_type": "code",
   "execution_count": 20,
   "id": "b8223874",
   "metadata": {},
   "outputs": [],
   "source": [
    "# y = mx + n\n",
    "# Usando os dados que já temos:\n",
    "# 0 = -1*m + 1*n\n",
    "# 1 = 0*m + 1*n\n",
    "# 2 = 1*m + 1*n\n",
    "# 3 = 2*m + 1*n\n",
    "\n",
    "# A = [número que acompanha m, número que acompanha n]\n",
    "A = np.array([[-1, 1], [0, 1], [1,1], [2, 1]])\n",
    "y = np.array([[y1],[y2],[y3],[y4]])"
   ]
  },
  {
   "cell_type": "markdown",
   "id": "a5266e2c",
   "metadata": {},
   "source": [
    "```math \n",
    "y =\\begin{bmatrix} \n",
    "    {0} \\\\ {1} \\\\ {2} \\\\ {1}\n",
    "  \\end{bmatrix}\n",
    "```\n",
    "```math \n",
    "A =\\begin{bmatrix} \n",
    "    {-1} & {1} \\\\\n",
    "    {0} & {1} \\\\\n",
    "    {1} & {1} \\\\\n",
    "    {2} & {1}\n",
    "  \\end{bmatrix}\n",
    "```\n",
    "```math \n",
    "X =\\begin{bmatrix} \n",
    "    {m} \\\\\n",
    "    {n} \n",
    "  \\end{bmatrix}\n",
    "```\n",
    "\n",
    "$$y_{1} = 0 = -1.m + 1.n$$\n",
    "$$y_{2} = 1 = 0.m + 1.n$$\n",
    "$$y_{3} = 2 = 1.m + 1.n$$\n",
    "$$y_{4} = 1 = 2.m + 1.n$$\n",
    "\n",
    "Ou seja:\n",
    "$$Y = A.X$$\n",
    "Ou, como dito antes:\n",
    "$$A.X = Y$$\n",
    "\n",
    "Queremos achar X.\n",
    "Como explicado antes:\n",
    "$$A.A^{-1}.X = A^{-1}.Y$$\n",
    "$$I.X = A^{-1}.Y$$\n",
    "$$X = A^{-1}.Y$$\n",
    "Usando a matriz pseudo-inversa, pois A não é quadrada:\n",
    "$$X=(A^{T}A)^{-1}A^{T}Y$$"
   ]
  },
  {
   "cell_type": "code",
   "execution_count": 21,
   "id": "fc16befa",
   "metadata": {},
   "outputs": [],
   "source": [
    "(m, n) = np.linalg.pinv(A.T@A)@A.T@y # pseudo-inversa"
   ]
  },
  {
   "cell_type": "code",
   "execution_count": 22,
   "id": "e63b0aca",
   "metadata": {},
   "outputs": [
    {
     "data": {
      "text/plain": [
       "Text(0.5, 1.0, 'Interpolação da reta sobre todos os pontos')"
      ]
     },
     "execution_count": 22,
     "metadata": {},
     "output_type": "execute_result"
    },
    {
     "data": {
      "image/png": "[encoded data removed]",
      "text/plain": [
       "<Figure size 1000x500 with 1 Axes>"
      ]
     },
     "metadata": {},
     "output_type": "display_data"
    }
   ],
   "source": [
    "plt.figure(figsize=(10,5))\n",
    "\n",
    "plt.scatter(x1, y1, color='green', label='Pares ordenados (x, y)')\n",
    "plt.scatter(x2, y2, color='green')\n",
    "plt.scatter(x3, y3, color='green')\n",
    "plt.scatter(x4, y4, color='green')\n",
    "\n",
    "v_x = np.linspace(-1,2) # distribuição de pontos que vão de -1 a 2\n",
    "\n",
    "plt.plot(x, y, label='Gráfico que liga os pontos')\n",
    "plt.plot(v_x, m*v_x + n, label='Reta otimizada pelo MMQ')\n",
    "\n",
    "\n",
    "plt.grid(True)\n",
    "plt.box(False)\n",
    "plt.legend()\n",
    "plt.title('Interpolação da reta sobre todos os pontos')"
   ]
  },
  {
   "cell_type": "markdown",
   "id": "d967af83",
   "metadata": {},
   "source": [
    "# 9. Estatística e Algelin em Python IX\n",
    "**Situações determinísticas:** Evento com um resultado *definido*.\n",
    "\n",
    "Mas, e as situações em que **não conseguimos prever com exatidão?**\n",
    "\n",
    "Entramos no ramo da **estatística e probabilidade**. Estatística base, e estatística descritiva. Temos **precisão**, não **certeza**.\n",
    "\n",
    "Modelo: TENTA explicar uma situação."
   ]
  },
  {
   "cell_type": "markdown",
   "id": "56b8e32d",
   "metadata": {},
   "source": [
    "# 10. Estatística e Algelin em Python X\n",
    "## Afinal, o que é uma variável?\n",
    "$$y = a.x + b$$\n",
    "y: variável independente\n",
    "x: variável dependente\n"
   ]
  },
  {
   "cell_type": "code",
   "execution_count": 42,
   "id": "46ce955e",
   "metadata": {},
   "outputs": [
    {
     "data": {
      "text/plain": [
       "Text(0, 0.5, 'y')"
      ]
     },
     "execution_count": 42,
     "metadata": {},
     "output_type": "execute_result"
    },
    {
     "data": {
      "image/png": "[encoded data removed]",
      "text/plain": [
       "<Figure size 640x480 with 1 Axes>"
      ]
     },
     "metadata": {},
     "output_type": "display_data"
    }
   ],
   "source": [
    "x = np.array(range(0,10))\n",
    "a = 2\n",
    "b = 0\n",
    "y = x*a + b\n",
    "plt.grid(True)\n",
    "plt.box(False)\n",
    "\n",
    "\n",
    "plt.plot(x,y)\n",
    "ax =plt.gca()\n",
    "\n",
    "ax.xaxis.set_major_locator(ticker.MultipleLocator(1, offset=0))\n",
    "ax.yaxis.set_major_locator(ticker.MultipleLocator(1, offset=0))\n",
    "ax.set_ylim(0)\n",
    "\n",
    "ax.set_xlabel('x')\n",
    "ax.set_ylabel('y')"
   ]
  },
  {
   "cell_type": "markdown",
   "id": "307e3ed3",
   "metadata": {},
   "source": [
    "Para cada valor de x, temos um y diferente.\n",
    "\n",
    "**x é variável pois ele NÃO É FIXO, diferente de a e b.** Temos vários pontos x possíveis.\n",
    "\n",
    "Isso se aplica em escalares **E VETORES**."
   ]
  },
  {
   "cell_type": "markdown",
   "id": "8764120f",
   "metadata": {},
   "source": [
    "# 11. Estatística e Algelin em Python XI\n",
    "## Tipos de VARIÁVEIS\n",
    "### 1. Variável categórica\n",
    "**Exemplo:** 'Unidade Federativa'\n",
    "\n",
    "Variável com um número finito de escolhas. Variável \"rotulada\", que classifica algo. Não enumeráveis.\n",
    "### 2. Variável discreta\n",
    "**Exemplo:** Quantidade de M&M's em uma caixa\n",
    "\n",
    "Variáveis enumeráveis e finitas. Números **inteiros**.\n",
    "\n",
    "O que NÃO é ume variável discreta: graus em um termômetro; temos inúmeras escalas intermediárias.\n",
    "\n",
    "### 3. Variável contínua\n",
    "**Exemplo:** Temperadura medida\n",
    "\n",
    "Variáveis com **medidas intermediárias**."
   ]
  },
  {
   "cell_type": "markdown",
   "id": "fa8f6598",
   "metadata": {},
   "source": [
    "# 12. Estatística e Algelin em Python XII\n",
    "## Medida de Tendência Central\n",
    "### Média Aritmética\n",
    "Equilíbro\n",
    "#### Exemplo\n",
    "Pessoa 1 tem 2 moedas\n",
    "\n",
    "Pessoa 2 tem 3 moedas\n",
    "\n",
    "Pessoa 3 tem 4 modeas\n",
    "\n",
    "A quantidade média de moedas de cada um é:\n",
    "\n",
    "$$Média = \\dfrac{\\sum moedas}{\\sum pessoas}$$\n",
    "$$Média = \\dfrac{2 + 3 + 4}{1 + 1 + 1} = 3$$\n",
    "\n",
    "### Mediana\n",
    "Dados os valores, coloque-os em ordem crescente.\n",
    "\n",
    "Caso quantidade ímpar: mediana é o **termo central**.\n",
    "\n",
    "Caso quantidade par: mediana é a **média entre os termos centrais**.\n",
    "\n",
    "## Média Ponderada\n",
    "Equilíbrio \"com peso\"\n",
    "$$Média P = \\dfrac{\\sum_{i=0}^{n} item_{i}.peso_{i}}{\\sum_{i=0}^{n} peso_{i}}$$\n"
   ]
  },
  {
   "cell_type": "markdown",
   "id": "f8e5f2e1",
   "metadata": {},
   "source": [
    "# 13. Estatística e Algelin em Python XIII\n",
    "## Moda\n",
    "Termo que mais se repete.\n",
    "\n",
    "**Se não há repetição**, é um conjunto **AMODAL**.\n",
    "\n",
    "## Distribuição de dados\n",
    "(representado por um histograma)\n",
    "### Distribuição normal\n",
    "Média, mediana e moda se coincidem no mesmo valor. Distribuição \"em sino\".\n",
    "\n",
    "Teorema: de (média - 3.std) até (média + 3.std) temos ~95% dos dados.\n",
    "\n",
    "Moda é o **pico do histograma**. A mediana **corta** os dados no meio em QUANTIDADE, 50% para um lado, e 50% para o outro. "
   ]
  },
  {
   "cell_type": "markdown",
   "id": "e53048c9",
   "metadata": {},
   "source": [
    "# 14. Estatística e Algelin em Python XIV\n",
    "## Desvio Padrão (std)\n",
    "$$Média = \\mu$$\n",
    "$$std = \\sigma$$\n",
    "Desvio padrão = Grau de dispersão **EM RELAÇÃO À MÉDIA**.\n",
    "\n",
    "Medidas de distância em relação à média.\n",
    "\n",
    "$$n = quantidadeDados$$\n",
    "$$\\sigma^{2} = \\dfrac{\\sum_{i=0}^{n}{(x_{i}-\\mu)^2}}{n}$$\n",
    "$$\\sigma = \\sqrt{\\dfrac{\\sum_{i=0}^{n}{(x_{i}-\\mu)^2}}{n}}$$\n",
    "\n",
    "\n",
    "## Z-score\n",
    "$$z = \\dfrac{x-\\mu}\\sigma$$\n",
    "\n",
    "zscore table / z-table (pesquisar)\n",
    "\n",
    "**Exemplo:**\n",
    "\"Em relação a população, a nota de fulando foi quantos por cento maior?\""
   ]
  }
 ],
 "metadata": {
  "kernelspec": {
   "display_name": "venv",
   "language": "python",
   "name": "python3"
  },
  "language_info": {
   "codemirror_mode": {
    "name": "ipython",
    "version": 3
   },
   "file_extension": ".py",
   "mimetype": "text/x-python",
   "name": "python",
   "nbconvert_exporter": "python",
   "pygments_lexer": "ipython3",
   "version": "3.12.7"
  }
 },
 "nbformat": 4,
 "nbformat_minor": 5
}
