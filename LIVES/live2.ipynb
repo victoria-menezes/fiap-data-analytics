{
 "cells": [
  {
   "cell_type": "markdown",
   "id": "ab83ecf9",
   "metadata": {},
   "source": [
    "# LIVE 2 - Vizualização e escolha de gráficos\n",
    "Como escolher o tipo de gráfico?"
   ]
  },
  {
   "cell_type": "markdown",
   "id": "d2367f79",
   "metadata": {},
   "source": [
    "## Gráficos de Barras\n",
    "Dados quantitativos\n",
    "Comparação de alguma coisa com outra.\n",
    "Começa DO ZERO, ou estragará a proporção entre eles.\n",
    "\n",
    "## Gráficos de Linha\n",
    "Dados temporais\n",
    "\n",
    "## Gráficos de Pizza\n",
    "\"Tendência\", X normalmente é tempo ou uma variável contínua, e o Y a variável medida.\n",
    "\n",
    "## Gráficos de Dispersão\n",
    "\n",
    "## Gráficos de Área\n",
    "\n",
    "## Gráficos de Bolhas\n",
    "\n",
    "## Heatmaps\n",
    "\n",
    "## Gráficos de Radar\n",
    "\n",
    "## Gráficos de Caixa - Boxplot (Box & Whiskers plot)\n",
    "### Elementos\n",
    "Caixa - intervalo interquartil (IQR = Q3 - Q1)\n",
    "Linha mediana (NÃO a média)\n",
    "Whiskers - Valores mínimos e máximos\n",
    "Outliers como pontos individuais\n",
    "\n",
    "[Artigo Alura](https://www.alura.com.br/artigos/melhorando-a-analise-com-o-boxplot)"
   ]
  },
  {
   "cell_type": "markdown",
   "id": "42fef147",
   "metadata": {},
   "source": [
    "## Boas práticas\n",
    "- Clareza e simplicidade: Evite poluição visual e informações desnecessárias\n",
    "- Cores: Uso eficaz de cores para destacar informações importantes\n",
    "- Rótulos e Legendas: Rótulos claros e legíveis, legendas explicativas\n",
    "- Consistência: Manter um estilho uniforme em todos os gráficos\n",
    "\n",
    "## Erros comuns\n",
    "- Escolha inadequada de gráficos\n",
    "- Dados mal representados que leval a conclusões errôneas\n",
    "- Saturação de informação\n",
    "\n",
    "## Ferramentas\n",
    "- Excel\n",
    "- Power BI\n",
    "### Python\n",
    "- Matplotlib\n",
    "- Seaborn\n",
    "- Plotly\n",
    "- ggplot\n",
    "\n",
    "## Leituras Recomendadas\n",
    "Storytelling com Dados: um Guia Sobre Visualização de Dados Para Profissionais de Negócios"
   ]
  },
  {
   "cell_type": "markdown",
   "id": "7b41ceaf",
   "metadata": {},
   "source": [
    "## Para o Tech Challenge\n",
    "- Evite entregar apenas um Dashboard; entregue um ANALÍTICO, INTERPRETE o gráfico\n",
    "- O QUE que eu quero comunicar? Para QUEM estou comunicando?\n",
    "- CONECTE as descrições com os gráficos: \"De acordo com gráfico 1, de acordo com gráfico 2, etc\"\n",
    "- Coloque TÍTULO no gráfico\n",
    "\n",
    "Técnica para construção de dash: Técnica Z\n",
    "- Começa no canto superior esquedo, vai para a direita, vai para baixo, etc;\n",
    "- Posicione os elementos nessa linha; mais importantes no 'começo' da linha e mais detalhes no 'final'"
   ]
  }
 ],
 "metadata": {
  "language_info": {
   "name": "python"
  }
 },
 "nbformat": 4,
 "nbformat_minor": 5
}
