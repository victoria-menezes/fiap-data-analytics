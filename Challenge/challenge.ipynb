{
 "cells": [
  {
   "cell_type": "markdown",
   "metadata": {},
   "source": [
    "# TECH Challenge\n",
    "## O problema\n",
    "Imagine agora, que você vai atuar como Expert em Data Analytics em uma empresa que exporta vinhos do Brasil para o mundo todo.\n",
    "Sua área é recém-criada dentro da empresa, e você será responsável pelos relatórios iniciais a serem apresentados em uma reunião de investidores e acionistas, explicando a quantidade de vinhos exportados e os fatores externos que podem vir a surgir e que interferem nas análises:\n",
    "1. Dados climáticos.\n",
    "2. Dados demográficos.\n",
    "3. Dados econômicos.\n",
    "4. Dados de avaliações de vinhos.\n",
    "\n",
    "O Head de Dados pediu para que você construísse uma tabela contendo as seguintes informações:\n",
    "1. País de origem (Brasil).\n",
    "2. País de destino.\n",
    "3. Quantidade em litros de vinho exportado (utilize: 1KG =1L).\n",
    "4. Valor em US$.\n",
    "\n",
    "Os dados que lhe forneceram são de uma vinícola parceira, e podem ser encontrados aqui: http://vitibrasil.cnpuv.embrapa.br/index.php?opcao=opt_01\n",
    "Seu objetivo é dizer o montante de venda de exportação nos últimos 15 anos, separando a análise por país e trazendo quais as prospecções futuras e possíveis ações para uma melhoria nas exportações. \n",
    "\n",
    "\n",
    "Construa gráficos atraentes e que passem a ideia central para que os acionistas e investidores possam seguir em frente com suas ações."
   ]
  }
 ],
 "metadata": {
  "language_info": {
   "name": "python"
  }
 },
 "nbformat": 4,
 "nbformat_minor": 2
}
